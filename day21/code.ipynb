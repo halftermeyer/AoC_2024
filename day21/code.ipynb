{
 "cells": [
  {
   "cell_type": "markdown",
   "metadata": {},
   "source": [
    "# advent of code 2024 - [day 21](https://adventofcode.com/2024/day/21)\n"
   ]
  },
  {
   "cell_type": "code",
   "execution_count": 1,
   "metadata": {},
   "outputs": [],
   "source": [
    "import itertools, numpy as np, re\n",
    "\n",
    "loc_x = {\n",
    "    '7': 0, '8': 0, '9': 0,\n",
    "    '4': 1, '5': 1, '6': 1,\n",
    "    '1': 2, '2': 2, '3': 2,\n",
    "    '': 3, '^': 3, 'A': 3,\n",
    "    '<': 4, 'v': 4, '>': 4,\n",
    "}\n",
    "\n",
    "loc_y = {\n",
    "    '7': 0, '8': 1, '9': 2,\n",
    "    '4': 0, '5': 1, '6': 2,\n",
    "    '1': 0, '2': 1, '3': 2,\n",
    "    '': 0, '^': 1, 'A': 2,\n",
    "    '<': 0, 'v': 1, '>': 2,\n",
    "}"
   ]
  },
  {
   "cell_type": "code",
   "execution_count": 2,
   "metadata": {},
   "outputs": [],
   "source": [
    "def bestPath(x1, y1, x2, y2):\n",
    "    w, e = '<' * (y1 - y2), '>' * (y2 - y1)\n",
    "    n, s = '^' * (x1 - x2), 'v' * (x2 - x1)\n",
    "    if loc_x[''] == min(x1, x2) and loc_y[''] == min(y1, y2):\n",
    "        return s + e + n + w + \"A\"\n",
    "    elif loc_x[''] == max(x1, x2) and loc_y[''] == min(y1, y2):\n",
    "        return n + e + s + w + \"A\"\n",
    "    else:\n",
    "        return w + s + n + e + \"A\""
   ]
  },
  {
   "cell_type": "code",
   "execution_count": 3,
   "metadata": {},
   "outputs": [],
   "source": [
    "options = 'A^<v>'\n",
    "pairs = [x+y for (x,y) in itertools.product(options, options)]\n",
    "N = len(pairs)\n",
    "matrix = np.array([[0 for i in range(N)] for j in range(N)], dtype=object)\n",
    "\n",
    "for srcidx, pair in enumerate(pairs):\n",
    "    a,b = pair[0],pair[1]\n",
    "    path = bestPath(loc_x[a], loc_y[a], loc_x[b], loc_y[b])\n",
    "    for (c1, c2) in zip('A'+path, path):\n",
    "        matrix[srcidx, pairs.index(c1+c2)] += 1"
   ]
  },
  {
   "cell_type": "code",
   "execution_count": 4,
   "metadata": {},
   "outputs": [],
   "source": [
    "def fastestPairs(depth):\n",
    "    vect = np.array([1]*N, dtype=object)\n",
    "    return np.linalg.matrix_power(matrix,depth).dot(vect)\n",
    "\n",
    "def fastestStr(str, fp):\n",
    "    return sum(fp[pairs.index(a+b)] for (a,b) in zip(\"A\" + str, str))\n",
    "\n",
    "def solveStr(str, depth):\n",
    "    str = str.replace('0', '^')\n",
    "    if (depth == 0): return len(str)\n",
    "    fp = fastestPairs(depth - 1)\n",
    "    result = 0\n",
    "    for (c1, c2) in zip(\"A\" + str, str):\n",
    "        result += fastestStr(bestPath(loc_x[c1], loc_y[c1], loc_x[c2], loc_y[c2]), fp)\n",
    "    return result\n",
    "\n",
    "text = open(\"input.txt\").read()"
   ]
  },
  {
   "cell_type": "code",
   "execution_count": 7,
   "metadata": {},
   "outputs": [
    {
     "data": {
      "text/plain": [
       "(176870, 223902935165512)"
      ]
     },
     "execution_count": 7,
     "metadata": {},
     "output_type": "execute_result"
    }
   ],
   "source": [
    "def solve(depth):\n",
    "    result = 0\n",
    "    for code in text.splitlines():\n",
    "        fastest = solveStr(code, depth)\n",
    "        result += fastest * int(re.findall(r'\\d+', code)[0])\n",
    "    return result\n",
    "\n",
    "part1, part2 = solve(3), solve(26)\n",
    "part1, part2"
   ]
  }
 ],
 "metadata": {
  "kernelspec": {
   "display_name": ".venv",
   "language": "python",
   "name": "python3"
  },
  "language_info": {
   "codemirror_mode": {
    "name": "ipython",
    "version": 3
   },
   "file_extension": ".py",
   "mimetype": "text/x-python",
   "name": "python",
   "nbconvert_exporter": "python",
   "pygments_lexer": "ipython3",
   "version": "3.9.6"
  }
 },
 "nbformat": 4,
 "nbformat_minor": 2
}
