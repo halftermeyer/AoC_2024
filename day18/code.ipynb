{
 "cells": [
  {
   "cell_type": "markdown",
   "metadata": {},
   "source": [
    "# advent of code 2024 - [day 18](https://adventofcode.com/2024/day/18)"
   ]
  },
  {
   "cell_type": "markdown",
   "metadata": {},
   "source": [
    "### Parsing"
   ]
  },
  {
   "cell_type": "code",
   "execution_count": 1,
   "metadata": {},
   "outputs": [],
   "source": [
    "import os\n",
    "\n",
    "NEO4J_URI = os.environ['NEO4J_URI']\n",
    "NEO4J_USERNAME = os.environ['NEO4J_USERNAME']\n",
    "NEO4J_PASSWORD = os.environ['NEO4J_PASSWORD']\n"
   ]
  },
  {
   "cell_type": "code",
   "execution_count": null,
   "metadata": {},
   "outputs": [],
   "source": [
    "from graphdatascience import GraphDataScience\n",
    "gds = GraphDataScience(NEO4J_URI, auth=(NEO4J_USERNAME, NEO4J_PASSWORD))\n",
    "\n",
    "# Check the installed GDS version on the server\n",
    "print(gds.version())\n",
    "assert gds.version()\n",
    "\n",
    "from neo4j import GraphDatabase\n",
    "driver = GraphDatabase.driver(NEO4J_URI, auth=(NEO4J_USERNAME, NEO4J_PASSWORD))\n",
    "\n",
    "import pandas as pd"
   ]
  },
  {
   "cell_type": "code",
   "execution_count": 3,
   "metadata": {},
   "outputs": [],
   "source": [
    "def parse(file='input.txt'):\n",
    "    file = open(file, 'r')\n",
    "    for _, line in enumerate(file):\n",
    "        yield tuple([int(x) for x in line.strip().split(',')])"
   ]
  },
  {
   "cell_type": "code",
   "execution_count": 4,
   "metadata": {},
   "outputs": [],
   "source": [
    "filename, size, kilobyte = 'input.txt', 70, 1024\n",
    "#filename, size, kilobyte = 'test.txt', 6, 12"
   ]
  },
  {
   "cell_type": "code",
   "execution_count": null,
   "metadata": {},
   "outputs": [],
   "source": [
    "from itertools import islice\n",
    "\n",
    "def parse_n_first(filename, n_first):\n",
    "    for x,y in islice(parse(filename), 0, n_first):\n",
    "        yield (x,y)"
   ]
  },
  {
   "cell_type": "code",
   "execution_count": 6,
   "metadata": {},
   "outputs": [],
   "source": [
    "clean_queries = [\n",
    "\"CALL apoc.schema.assert({},{});\",\n",
    "\"\"\"MATCH (n)\n",
    "CALL {WITH n DETACH DELETE n}\n",
    "IN TRANSACTIONS OF 1000 ROWS;\"\"\",\n",
    "\"\"\"CALL gds.graph.list()\n",
    "YIELD graphName\n",
    "WITH graphName AS g\n",
    "CALL (g) {CALL gds.graph.drop(g) YIELD graphName RETURN graphName}\n",
    "WITH graphName RETURN graphName;\"\"\"]\n",
    "\n",
    "for q in clean_queries:\n",
    "    gds.run_cypher(q, {})"
   ]
  },
  {
   "cell_type": "code",
   "execution_count": null,
   "metadata": {},
   "outputs": [],
   "source": [
    "gds.run_cypher('CREATE INDEX tile_x IF NOT EXISTS FOR (r:Tile) ON (r.x)')\n",
    "gds.run_cypher('CREATE INDEX tile_y IF NOT EXISTS FOR (r:Tile) ON (r.y)')\n",
    "gds.run_cypher('CREATE INDEX tile_valid_until IF NOT EXISTS FOR (r:Tile) ON (r.valid_until)')"
   ]
  },
  {
   "cell_type": "code",
   "execution_count": 8,
   "metadata": {},
   "outputs": [],
   "source": [
    "\n",
    "build_q= [\"\"\"\n",
    "UNWIND range(0,$size) AS x\n",
    "UNWIND range(0,$size) AS y\n",
    "CREATE (:Tile {x:x, y:y, X:x, Y:-y})\n",
    "\"\"\",\n",
    "\"\"\"\n",
    "UNWIND range(0,$size) AS x\n",
    "MATCH (t:Tile {x:x})\n",
    "WITH x, t ORDER BY t.y\n",
    "WITH x, collect(t) AS col\n",
    "CALL apoc.nodes.link(col,'S')\n",
    "\"\"\",\n",
    "\"\"\"\n",
    "UNWIND range(0,$size) AS y\n",
    "MATCH (t:Tile {y:y})\n",
    "WITH y, t ORDER BY t.x\n",
    "WITH y, collect(t) AS col\n",
    "CALL apoc.nodes.link(col,'E')\n",
    "\"\"\",\n",
    "\"\"\"\n",
    "MATCH (a)-[:E]->(b)\n",
    "MERGE (b)-[:W]->(a)\n",
    "\"\"\",\"\"\"\n",
    "MATCH (a)-[:S]->(b)\n",
    "MERGE (b)-[:N]->(a)\n",
    "\"\"\"\n",
    "\n",
    "]\n",
    "for q in build_q:\n",
    "    gds.run_cypher(q, {'size':size})"
   ]
  },
  {
   "cell_type": "code",
   "execution_count": null,
   "metadata": {},
   "outputs": [],
   "source": [
    "corrupted_q = \"\"\"\n",
    "UNWIND $kb AS byte\n",
    "MATCH (t:Tile {x:byte.x, y:byte.y})\n",
    "SET t:Corrupted\n",
    "\"\"\"\n",
    "\n",
    "gds.run_cypher(corrupted_q, {'kb':[{\"t\":t, \"x\":x, \"y\":y} for t, (x, y) in enumerate(parse_n_first(filename, kilobyte))]})\n"
   ]
  },
  {
   "cell_type": "code",
   "execution_count": 10,
   "metadata": {},
   "outputs": [],
   "source": [
    "st_query = [\"\"\"\n",
    "MATCH (t:Tile {x:0, y:0})\n",
    "SET t:Source\n",
    "\"\"\",\n",
    "\"\"\"\n",
    "MATCH (t:Tile {x:$size, y:$size})\n",
    "SET t:Target\n",
    "\"\"\"]\n",
    "for q in st_query:\n",
    "    gds.run_cypher(q, {'size':size})"
   ]
  },
  {
   "cell_type": "code",
   "execution_count": null,
   "metadata": {},
   "outputs": [],
   "source": [
    "gds.run_cypher(\"\"\"MATCH (source:Tile&!Corrupted)-[r:N|S|E|W]->(target:Tile&!Corrupted)\n",
    "RETURN gds.graph.project(\n",
    "  'myGraph',\n",
    "  source,\n",
    "  target,\n",
    "  {}\n",
    ")\"\"\")"
   ]
  },
  {
   "cell_type": "code",
   "execution_count": null,
   "metadata": {},
   "outputs": [],
   "source": [
    "gds.run_cypher(\"\"\"\n",
    "MATCH (source:Source), (target:Target)\n",
    "CALL gds.shortestPath.dijkstra.stream('myGraph', {\n",
    "    sourceNode: source,\n",
    "    targetNodes: target\n",
    "})\n",
    "YIELD totalCost\n",
    "RETURN toInteger(totalCost) AS part1\n",
    "\"\"\")"
   ]
  },
  {
   "cell_type": "code",
   "execution_count": 13,
   "metadata": {},
   "outputs": [],
   "source": [
    "part2_prep_queries = [\"\"\"\n",
    "MATCH (t:Corrupted) REMOVE t:Corrupted\n",
    "\"\"\",\n",
    "\"\"\"\n",
    "UNWIND $kb AS byte\n",
    "MATCH (t:Tile {x:byte.x, y:byte.y})\n",
    "SET t.valid_until = byte.t\n",
    "\"\"\"]\n",
    "for q in part2_prep_queries:\n",
    "    gds.run_cypher(q, {'kb':[{\"t\":t, \"x\":x, \"y\":y} for t, (x, y) in enumerate(parse(filename))]})"
   ]
  },
  {
   "cell_type": "code",
   "execution_count": null,
   "metadata": {},
   "outputs": [],
   "source": [
    "final_part2_q = \"\"\"\n",
    "UNWIND range(0,size($kb)-1) AS t\n",
    "MATCH path = SHORTEST 1 (:Source)(()-->(jx:Tile WHERE jx.valid_until IS null OR jx.valid_until > t))*(:Target)\n",
    "WITH t, path ORDER BY t DESC LIMIT 1\n",
    "MATCH (x:Tile {valid_until:t+1})\n",
    "RETURN t, toString(x.x)+','+toString(x.y) AS part2\n",
    "\"\"\"\n",
    "\n",
    "\n",
    "gds.run_cypher(final_part2_q, {'kb':[{\"t\":t, \"x\":x, \"y\":y} for t, (x, y) in enumerate(parse(filename))]})"
   ]
  }
 ],
 "metadata": {
  "kernelspec": {
   "display_name": ".venv",
   "language": "python",
   "name": "python3"
  },
  "language_info": {
   "codemirror_mode": {
    "name": "ipython",
    "version": 3
   },
   "file_extension": ".py",
   "mimetype": "text/x-python",
   "name": "python",
   "nbconvert_exporter": "python",
   "pygments_lexer": "ipython3",
   "version": "3.9.6"
  }
 },
 "nbformat": 4,
 "nbformat_minor": 2
}
