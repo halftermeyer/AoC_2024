{
 "cells": [
  {
   "cell_type": "markdown",
   "metadata": {},
   "source": [
    "# advent of code 2024 - [day 18](https://adventofcode.com/2024/day/18)"
   ]
  },
  {
   "cell_type": "markdown",
   "metadata": {},
   "source": [
    "### Parsing"
   ]
  },
  {
   "cell_type": "code",
   "execution_count": 174,
   "metadata": {},
   "outputs": [],
   "source": [
    "import os\n",
    "\n",
    "NEO4J_URI = os.environ['NEO4J_URI']\n",
    "NEO4J_USERNAME = os.environ['NEO4J_USERNAME']\n",
    "NEO4J_PASSWORD = os.environ['NEO4J_PASSWORD']\n"
   ]
  },
  {
   "cell_type": "code",
   "execution_count": 175,
   "metadata": {},
   "outputs": [
    {
     "name": "stdout",
     "output_type": "stream",
     "text": [
      "2.13.0\n"
     ]
    }
   ],
   "source": [
    "from graphdatascience import GraphDataScience\n",
    "gds = GraphDataScience(NEO4J_URI, auth=(NEO4J_USERNAME, NEO4J_PASSWORD))\n",
    "\n",
    "# Check the installed GDS version on the server\n",
    "print(gds.version())\n",
    "assert gds.version()\n",
    "\n",
    "from neo4j import GraphDatabase\n",
    "driver = GraphDatabase.driver(NEO4J_URI, auth=(NEO4J_USERNAME, NEO4J_PASSWORD))\n",
    "\n",
    "import pandas as pd"
   ]
  },
  {
   "cell_type": "code",
   "execution_count": 176,
   "metadata": {},
   "outputs": [],
   "source": [
    "def parse(file='input.txt'):\n",
    "    file = open(file, 'r')\n",
    "    for _, line in enumerate(file):\n",
    "        yield tuple([int(x) for x in line.strip().split(',')])"
   ]
  },
  {
   "cell_type": "code",
   "execution_count": 177,
   "metadata": {},
   "outputs": [],
   "source": [
    "filename, size, kilobyte = 'input.txt', 70, 1024\n",
    "#filename, size, kilobyte = 'test.txt', 6, 12"
   ]
  },
  {
   "cell_type": "code",
   "execution_count": 178,
   "metadata": {},
   "outputs": [
    {
     "name": "stdout",
     "output_type": "stream",
     "text": [
      "27 6\n",
      "24 29\n",
      "5 42\n",
      "3 7\n",
      "34 63\n",
      "45 53\n",
      "50 25\n",
      "27 14\n",
      "25 16\n",
      "51 69\n",
      "45 65\n",
      "13 1\n"
     ]
    }
   ],
   "source": [
    "from itertools import islice\n",
    "\n",
    "def parse_n_first(filename, n_first):\n",
    "    for x,y in islice(parse(filename), 0, n_first):\n",
    "        yield (x,y)\n",
    "\n",
    "for x,y in parse_n_first(filename, 12):\n",
    "    print(x,y)\n"
   ]
  },
  {
   "cell_type": "code",
   "execution_count": 179,
   "metadata": {},
   "outputs": [],
   "source": [
    "clean_queries = [\n",
    "\"CALL apoc.schema.assert({},{});\",\n",
    "\"\"\"MATCH (n)\n",
    "CALL {WITH n DETACH DELETE n}\n",
    "IN TRANSACTIONS OF 1000 ROWS;\"\"\",\n",
    "\"\"\"CALL gds.graph.list()\n",
    "YIELD graphName\n",
    "WITH graphName AS g\n",
    "CALL (g) {CALL gds.graph.drop(g) YIELD graphName RETURN graphName}\n",
    "WITH graphName RETURN graphName;\"\"\"]\n",
    "\n",
    "for q in queries:\n",
    "    gds.run_cypher(q, {})"
   ]
  },
  {
   "cell_type": "code",
   "execution_count": 180,
   "metadata": {},
   "outputs": [
    {
     "data": {
      "text/html": [
       "<div>\n",
       "<style scoped>\n",
       "    .dataframe tbody tr th:only-of-type {\n",
       "        vertical-align: middle;\n",
       "    }\n",
       "\n",
       "    .dataframe tbody tr th {\n",
       "        vertical-align: top;\n",
       "    }\n",
       "\n",
       "    .dataframe thead th {\n",
       "        text-align: right;\n",
       "    }\n",
       "</style>\n",
       "<table border=\"1\" class=\"dataframe\">\n",
       "  <thead>\n",
       "    <tr style=\"text-align: right;\">\n",
       "      <th></th>\n",
       "    </tr>\n",
       "  </thead>\n",
       "  <tbody>\n",
       "  </tbody>\n",
       "</table>\n",
       "</div>"
      ],
      "text/plain": [
       "Empty DataFrame\n",
       "Columns: []\n",
       "Index: []"
      ]
     },
     "execution_count": 180,
     "metadata": {},
     "output_type": "execute_result"
    }
   ],
   "source": [
    "gds.run_cypher('CREATE INDEX tile_x IF NOT EXISTS FOR (r:Tile) ON (r.x)')\n",
    "gds.run_cypher('CREATE INDEX tile_y IF NOT EXISTS FOR (r:Tile) ON (r.y)')\n",
    "gds.run_cypher('CREATE INDEX tile_valid_until IF NOT EXISTS FOR (r:Tile) ON (r.valid_until)')"
   ]
  },
  {
   "cell_type": "code",
   "execution_count": 181,
   "metadata": {},
   "outputs": [],
   "source": [
    "\n",
    "build_q= [\"\"\"\n",
    "UNWIND range(0,$size) AS x\n",
    "UNWIND range(0,$size) AS y\n",
    "CREATE (:Tile {x:x, y:y, X:x, Y:-y})\n",
    "\"\"\",\n",
    "\"\"\"\n",
    "UNWIND range(0,$size) AS x\n",
    "MATCH (t:Tile {x:x})\n",
    "WITH x, t ORDER BY t.y\n",
    "WITH x, collect(t) AS col\n",
    "CALL apoc.nodes.link(col,'S')\n",
    "\"\"\",\n",
    "\"\"\"\n",
    "UNWIND range(0,$size) AS y\n",
    "MATCH (t:Tile {y:y})\n",
    "WITH y, t ORDER BY t.x\n",
    "WITH y, collect(t) AS col\n",
    "CALL apoc.nodes.link(col,'E')\n",
    "\"\"\",\n",
    "\"\"\"\n",
    "MATCH (a)-[:E]->(b)\n",
    "MERGE (b)-[:W]->(a)\n",
    "\"\"\",\"\"\"\n",
    "MATCH (a)-[:S]->(b)\n",
    "MERGE (b)-[:N]->(a)\n",
    "\"\"\"\n",
    "\n",
    "]\n",
    "for q in build_q:\n",
    "    gds.run_cypher(q, {'size':size})"
   ]
  },
  {
   "cell_type": "code",
   "execution_count": 182,
   "metadata": {},
   "outputs": [
    {
     "data": {
      "text/html": [
       "<div>\n",
       "<style scoped>\n",
       "    .dataframe tbody tr th:only-of-type {\n",
       "        vertical-align: middle;\n",
       "    }\n",
       "\n",
       "    .dataframe tbody tr th {\n",
       "        vertical-align: top;\n",
       "    }\n",
       "\n",
       "    .dataframe thead th {\n",
       "        text-align: right;\n",
       "    }\n",
       "</style>\n",
       "<table border=\"1\" class=\"dataframe\">\n",
       "  <thead>\n",
       "    <tr style=\"text-align: right;\">\n",
       "      <th></th>\n",
       "      <th>t</th>\n",
       "    </tr>\n",
       "  </thead>\n",
       "  <tbody>\n",
       "    <tr>\n",
       "      <th>0</th>\n",
       "      <td>(x, X, y, Y)</td>\n",
       "    </tr>\n",
       "    <tr>\n",
       "      <th>1</th>\n",
       "      <td>(x, X, y, Y)</td>\n",
       "    </tr>\n",
       "    <tr>\n",
       "      <th>2</th>\n",
       "      <td>(x, X, y, Y)</td>\n",
       "    </tr>\n",
       "    <tr>\n",
       "      <th>3</th>\n",
       "      <td>(x, X, y, Y)</td>\n",
       "    </tr>\n",
       "    <tr>\n",
       "      <th>4</th>\n",
       "      <td>(x, X, y, Y)</td>\n",
       "    </tr>\n",
       "    <tr>\n",
       "      <th>...</th>\n",
       "      <td>...</td>\n",
       "    </tr>\n",
       "    <tr>\n",
       "      <th>1019</th>\n",
       "      <td>(x, X, y, Y)</td>\n",
       "    </tr>\n",
       "    <tr>\n",
       "      <th>1020</th>\n",
       "      <td>(x, X, y, Y)</td>\n",
       "    </tr>\n",
       "    <tr>\n",
       "      <th>1021</th>\n",
       "      <td>(x, X, y, Y)</td>\n",
       "    </tr>\n",
       "    <tr>\n",
       "      <th>1022</th>\n",
       "      <td>(x, X, y, Y)</td>\n",
       "    </tr>\n",
       "    <tr>\n",
       "      <th>1023</th>\n",
       "      <td>(x, X, y, Y)</td>\n",
       "    </tr>\n",
       "  </tbody>\n",
       "</table>\n",
       "<p>1024 rows × 1 columns</p>\n",
       "</div>"
      ],
      "text/plain": [
       "                 t\n",
       "0     (x, X, y, Y)\n",
       "1     (x, X, y, Y)\n",
       "2     (x, X, y, Y)\n",
       "3     (x, X, y, Y)\n",
       "4     (x, X, y, Y)\n",
       "...            ...\n",
       "1019  (x, X, y, Y)\n",
       "1020  (x, X, y, Y)\n",
       "1021  (x, X, y, Y)\n",
       "1022  (x, X, y, Y)\n",
       "1023  (x, X, y, Y)\n",
       "\n",
       "[1024 rows x 1 columns]"
      ]
     },
     "execution_count": 182,
     "metadata": {},
     "output_type": "execute_result"
    }
   ],
   "source": [
    "corrupted_q = \"\"\"\n",
    "UNWIND $kb AS byte\n",
    "MATCH (t:Tile {x:byte.x, y:byte.y})\n",
    "SET t:Corrupted\n",
    "RETURN t\n",
    "\"\"\"\n",
    "\n",
    "gds.run_cypher(corrupted_q, {'kb':[{\"t\":t, \"x\":x, \"y\":y} for t, (x, y) in enumerate(parse_n_first(filename, kilobyte))]})\n"
   ]
  },
  {
   "cell_type": "code",
   "execution_count": 183,
   "metadata": {},
   "outputs": [],
   "source": [
    "st_query = [\"\"\"\n",
    "MATCH (t:Tile {x:0, y:0})\n",
    "SET t:Source\n",
    "\"\"\",\n",
    "\"\"\"\n",
    "MATCH (t:Tile {x:$size, y:$size})\n",
    "SET t:Target\n",
    "\"\"\"]\n",
    "for q in st_query:\n",
    "    gds.run_cypher(q, {'size':size})"
   ]
  },
  {
   "cell_type": "code",
   "execution_count": 184,
   "metadata": {},
   "outputs": [
    {
     "data": {
      "text/html": [
       "<div>\n",
       "<style scoped>\n",
       "    .dataframe tbody tr th:only-of-type {\n",
       "        vertical-align: middle;\n",
       "    }\n",
       "\n",
       "    .dataframe tbody tr th {\n",
       "        vertical-align: top;\n",
       "    }\n",
       "\n",
       "    .dataframe thead th {\n",
       "        text-align: right;\n",
       "    }\n",
       "</style>\n",
       "<table border=\"1\" class=\"dataframe\">\n",
       "  <thead>\n",
       "    <tr style=\"text-align: right;\">\n",
       "      <th></th>\n",
       "      <th>gds.graph.project(\\n  'myGraph',\\n  source,\\n  target,\\n  {}\\n)</th>\n",
       "    </tr>\n",
       "  </thead>\n",
       "  <tbody>\n",
       "    <tr>\n",
       "      <th>0</th>\n",
       "      <td>{'relationshipCount': 13428, 'graphName': 'myG...</td>\n",
       "    </tr>\n",
       "  </tbody>\n",
       "</table>\n",
       "</div>"
      ],
      "text/plain": [
       "  gds.graph.project(\\n  'myGraph',\\n  source,\\n  target,\\n  {}\\n)\n",
       "0  {'relationshipCount': 13428, 'graphName': 'myG...             "
      ]
     },
     "execution_count": 184,
     "metadata": {},
     "output_type": "execute_result"
    }
   ],
   "source": [
    "gds.run_cypher(\"\"\"MATCH (source:Tile&!Corrupted)-[r:N|S|E|W]->(target:Tile&!Corrupted)\n",
    "RETURN gds.graph.project(\n",
    "  'myGraph',\n",
    "  source,\n",
    "  target,\n",
    "  {}\n",
    ")\"\"\")"
   ]
  },
  {
   "cell_type": "code",
   "execution_count": 185,
   "metadata": {},
   "outputs": [
    {
     "data": {
      "text/html": [
       "<div>\n",
       "<style scoped>\n",
       "    .dataframe tbody tr th:only-of-type {\n",
       "        vertical-align: middle;\n",
       "    }\n",
       "\n",
       "    .dataframe tbody tr th {\n",
       "        vertical-align: top;\n",
       "    }\n",
       "\n",
       "    .dataframe thead th {\n",
       "        text-align: right;\n",
       "    }\n",
       "</style>\n",
       "<table border=\"1\" class=\"dataframe\">\n",
       "  <thead>\n",
       "    <tr style=\"text-align: right;\">\n",
       "      <th></th>\n",
       "      <th>part1</th>\n",
       "    </tr>\n",
       "  </thead>\n",
       "  <tbody>\n",
       "    <tr>\n",
       "      <th>0</th>\n",
       "      <td>416</td>\n",
       "    </tr>\n",
       "  </tbody>\n",
       "</table>\n",
       "</div>"
      ],
      "text/plain": [
       "   part1\n",
       "0    416"
      ]
     },
     "execution_count": 185,
     "metadata": {},
     "output_type": "execute_result"
    }
   ],
   "source": [
    "gds.run_cypher(\"\"\"\n",
    "MATCH (source:Source), (target:Target)\n",
    "CALL gds.shortestPath.dijkstra.stream('myGraph', {\n",
    "    sourceNode: source,\n",
    "    targetNodes: target\n",
    "})\n",
    "YIELD totalCost\n",
    "RETURN toInteger(totalCost) AS part1\n",
    "\"\"\")"
   ]
  },
  {
   "cell_type": "code",
   "execution_count": 186,
   "metadata": {},
   "outputs": [],
   "source": [
    "part2_prep_queries = [\"\"\"\n",
    "MATCH (t:Corrupted) REMOVE t:Corrupted\n",
    "\"\"\",\n",
    "\"\"\"\n",
    "UNWIND $kb AS byte\n",
    "MATCH (t:Tile {x:byte.x, y:byte.y})\n",
    "SET t.valid_until = byte.t\n",
    "\"\"\"]\n",
    "for q in part2_prep_queries:\n",
    "    gds.run_cypher(q, {'kb':[{\"t\":t, \"x\":x, \"y\":y} for t, (x, y) in enumerate(parse(filename))]})"
   ]
  },
  {
   "cell_type": "code",
   "execution_count": 187,
   "metadata": {},
   "outputs": [
    {
     "data": {
      "text/html": [
       "<div>\n",
       "<style scoped>\n",
       "    .dataframe tbody tr th:only-of-type {\n",
       "        vertical-align: middle;\n",
       "    }\n",
       "\n",
       "    .dataframe tbody tr th {\n",
       "        vertical-align: top;\n",
       "    }\n",
       "\n",
       "    .dataframe thead th {\n",
       "        text-align: right;\n",
       "    }\n",
       "</style>\n",
       "<table border=\"1\" class=\"dataframe\">\n",
       "  <thead>\n",
       "    <tr style=\"text-align: right;\">\n",
       "      <th></th>\n",
       "      <th>part2</th>\n",
       "    </tr>\n",
       "  </thead>\n",
       "  <tbody>\n",
       "    <tr>\n",
       "      <th>0</th>\n",
       "      <td>50,23</td>\n",
       "    </tr>\n",
       "  </tbody>\n",
       "</table>\n",
       "</div>"
      ],
      "text/plain": [
       "   part2\n",
       "0  50,23"
      ]
     },
     "execution_count": 187,
     "metadata": {},
     "output_type": "execute_result"
    }
   ],
   "source": [
    "final_part2_q = \"\"\"\n",
    "UNWIND range(0,size($kb)-1) AS t\n",
    "MATCH path = SHORTEST 1 (:Source)(()-->(jx:Tile WHERE jx.valid_until IS null OR jx.valid_until > t))*(:Target)\n",
    "WITH t, path ORDER BY t DESC LIMIT 1\n",
    "MATCH (x:Tile {valid_until:t+1})\n",
    "RETURN toString(x.x)+','+toString(x.y) AS part2\n",
    "\"\"\"\n",
    "\n",
    "\n",
    "gds.run_cypher(final_part2_q, {'kb':[{\"t\":t, \"x\":x, \"y\":y} for t, (x, y) in enumerate(parse(filename))]})"
   ]
  }
 ],
 "metadata": {
  "kernelspec": {
   "display_name": ".venv",
   "language": "python",
   "name": "python3"
  },
  "language_info": {
   "codemirror_mode": {
    "name": "ipython",
    "version": 3
   },
   "file_extension": ".py",
   "mimetype": "text/x-python",
   "name": "python",
   "nbconvert_exporter": "python",
   "pygments_lexer": "ipython3",
   "version": "3.9.6"
  }
 },
 "nbformat": 4,
 "nbformat_minor": 2
}
