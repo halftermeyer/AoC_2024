{
 "cells": [
  {
   "cell_type": "markdown",
   "metadata": {},
   "source": [
    "# advent of code 2024 - [day 11](https://adventofcode.com/2024/day/11)"
   ]
  },
  {
   "cell_type": "markdown",
   "metadata": {},
   "source": [
    "### Parsing"
   ]
  },
  {
   "cell_type": "code",
   "execution_count": 88,
   "metadata": {},
   "outputs": [],
   "source": [
    "def gen_stones(file='input.txt'):\n",
    "    \"\"\"Generates tuples of integers\"\"\"\n",
    "    file = open(file, 'r')\n",
    "    for _, line in enumerate(file):\n",
    "        els = line.split(\" \")\n",
    "        return tuple(int(x) for x in els)"
   ]
  },
  {
   "cell_type": "code",
   "execution_count": 89,
   "metadata": {},
   "outputs": [],
   "source": [
    "filename = \"input.txt\"\n",
    "#filename = \"test.txt\""
   ]
  },
  {
   "cell_type": "markdown",
   "metadata": {},
   "source": [
    "## Python Solution"
   ]
  },
  {
   "cell_type": "code",
   "execution_count": null,
   "metadata": {},
   "outputs": [],
   "source": [
    "from functools import cache\n",
    "import doctest\n",
    "doctest.testmod()\n",
    "\n",
    "@cache\n",
    "def num_stone_line_after_n_blinks(stone_line, n):\n",
    "    if n == 0:\n",
    "        return len(stone_line)\n",
    "    \n",
    "    if len(stone_line) > 1:\n",
    "        return sum(num_stone_line_after_n_blinks((x,), n) for x in stone_line)\n",
    "    \n",
    "    if stone_line[0] == 0:\n",
    "        return num_stone_line_after_n_blinks((1,), n-1)\n",
    "    \n",
    "    stone_str = str(stone_line[0])\n",
    "    l = len(stone_str)\n",
    "    halfl = l//2\n",
    "    if l % 2 == 0:\n",
    "        first = (int(stone_str[0:halfl]),)\n",
    "        second = (int(stone_str[halfl:]),)\n",
    "        return num_stone_line_after_n_blinks(first, n-1) + num_stone_line_after_n_blinks(second, n-1)\n",
    "    \n",
    "    return num_stone_line_after_n_blinks((stone_line[0] * 2024,), n-1)"
   ]
  },
  {
   "cell_type": "code",
   "execution_count": 91,
   "metadata": {},
   "outputs": [
    {
     "data": {
      "text/plain": [
       "(229043, 272673043446478)"
      ]
     },
     "execution_count": 91,
     "metadata": {},
     "output_type": "execute_result"
    }
   ],
   "source": [
    "data = gen_stones(filename)\n",
    "num_stone_line_after_n_blinks(data, 25), num_stone_line_after_n_blinks(data, 75)"
   ]
  },
  {
   "cell_type": "markdown",
   "metadata": {},
   "source": []
  }
 ],
 "metadata": {
  "kernelspec": {
   "display_name": ".venv",
   "language": "python",
   "name": "python3"
  },
  "language_info": {
   "codemirror_mode": {
    "name": "ipython",
    "version": 3
   },
   "file_extension": ".py",
   "mimetype": "text/x-python",
   "name": "python",
   "nbconvert_exporter": "python",
   "pygments_lexer": "ipython3",
   "version": "3.9.6"
  }
 },
 "nbformat": 4,
 "nbformat_minor": 2
}
