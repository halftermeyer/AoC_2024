{
 "cells": [
  {
   "cell_type": "markdown",
   "metadata": {},
   "source": [
    "# advent of code 2024 - [day 11](https://adventofcode.com/2024/day/11)"
   ]
  },
  {
   "cell_type": "markdown",
   "metadata": {},
   "source": [
    "### Parsing"
   ]
  },
  {
   "cell_type": "code",
   "execution_count": 2,
   "metadata": {},
   "outputs": [],
   "source": [
    "def gen_stones(file='input.txt'):\n",
    "    \"\"\"Generates tuples of integers\"\"\"\n",
    "    file = open(file, 'r')\n",
    "    for _, line in enumerate(file):\n",
    "        els = line.split(\" \")\n",
    "        return tuple(int(x) for x in els)"
   ]
  },
  {
   "cell_type": "code",
   "execution_count": 3,
   "metadata": {},
   "outputs": [],
   "source": [
    "filename = \"input.txt\"\n",
    "#filename = \"test.txt\""
   ]
  },
  {
   "cell_type": "markdown",
   "metadata": {},
   "source": [
    "## Python Solution"
   ]
  },
  {
   "cell_type": "code",
   "execution_count": 4,
   "metadata": {},
   "outputs": [],
   "source": [
    "from functools import cache\n",
    "import doctest\n",
    "doctest.testmod()\n",
    "\n",
    "@cache\n",
    "def num_stone_line_after_n_blinks(stone_line, n):\n",
    "    if n == 0:\n",
    "        return len(stone_line)\n",
    "    \n",
    "    if len(stone_line) > 1:\n",
    "        return sum(num_stone_line_after_n_blinks((x,), n) for x in stone_line)\n",
    "    \n",
    "    if stone_line[0] == 0:\n",
    "        return num_stone_line_after_n_blinks((1,), n-1)\n",
    "    \n",
    "    stone_str = str(stone_line[0])\n",
    "    l = len(stone_str)\n",
    "    if l % 2 == 0:\n",
    "        halfl = l//2\n",
    "        first = (int(stone_str[0:halfl]),)\n",
    "        second = (int(stone_str[halfl:]),)\n",
    "        return num_stone_line_after_n_blinks(first, n-1) + num_stone_line_after_n_blinks(second, n-1)\n",
    "    \n",
    "    return num_stone_line_after_n_blinks((stone_line[0] * 2024,), n-1)"
   ]
  },
  {
   "cell_type": "code",
   "execution_count": 8,
   "metadata": {},
   "outputs": [
    {
     "data": {
      "text/plain": [
       "(229043,\n",
       " 272673043446478,\n",
       " 269294308132322028113716162069166978310683128137712112581543891358733307038676453913968841395268878517933592339633959272600081116024768011001380269743033423906380496195987458291796960962215013549073299546886462207873871464434917371068215786542918894711927416991984525072223318667986952329901316418929187543778343490134090380249245425564936249581389595924297408706293776902578006931580413064536845654827069872424930286759433863332053534029189438809653389267794369397381059074613269974125362280616300853657023625331360450524228762589353456179883335)"
      ]
     },
     "execution_count": 8,
     "metadata": {},
     "output_type": "execute_result"
    }
   ],
   "source": [
    "data = gen_stones(filename)\n",
    "\n",
    "tuple(num_stone_line_after_n_blinks(data, blinks) for blinks in [25, 75, 3000])\n"
   ]
  },
  {
   "cell_type": "code",
   "execution_count": null,
   "metadata": {},
   "outputs": [],
   "source": []
  }
 ],
 "metadata": {
  "kernelspec": {
   "display_name": ".venv",
   "language": "python",
   "name": "python3"
  },
  "language_info": {
   "codemirror_mode": {
    "name": "ipython",
    "version": 3
   },
   "file_extension": ".py",
   "mimetype": "text/x-python",
   "name": "python",
   "nbconvert_exporter": "python",
   "pygments_lexer": "ipython3",
   "version": "3.9.6"
  }
 },
 "nbformat": 4,
 "nbformat_minor": 2
}
