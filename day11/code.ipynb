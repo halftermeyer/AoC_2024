{
 "cells": [
  {
   "cell_type": "markdown",
   "metadata": {},
   "source": [
    "# advent of code 2024 - [day 11](https://adventofcode.com/2024/day/11)"
   ]
  },
  {
   "cell_type": "markdown",
   "metadata": {},
   "source": [
    "### Parsing"
   ]
  },
  {
   "cell_type": "code",
   "execution_count": null,
   "metadata": {},
   "outputs": [],
   "source": [
    "def gen_stones(file='input.txt'):\n",
    "    \"\"\"Generates tuples of integers\"\"\"\n",
    "    file = open(file, 'r')\n",
    "    for _, line in enumerate(file):\n",
    "        els = line.split(\" \")\n",
    "        yield tuple(int(x) for x in els)\n",
    "        break"
   ]
  },
  {
   "cell_type": "code",
   "execution_count": null,
   "metadata": {},
   "outputs": [],
   "source": [
    "filename = \"input.txt\"\n",
    "#filename = \"test.txt\""
   ]
  },
  {
   "cell_type": "markdown",
   "metadata": {},
   "source": [
    "## Python Solution"
   ]
  },
  {
   "cell_type": "code",
   "execution_count": null,
   "metadata": {},
   "outputs": [],
   "source": [
    "from functools import cache\n",
    "import doctest\n",
    "doctest.testmod()\n",
    "\n",
    "@cache\n",
    "def num_stone_line_after_n_blinks(stone_line, n):\n",
    "    if n == 0:\n",
    "        return len(stone_line)\n",
    "    if len(stone_line) > 1:\n",
    "        return sum(num_stone_line_after_n_blinks((x,), n) for x in stone_line)\n",
    "    if stone_line[0] == 0:\n",
    "        return num_stone_line_after_n_blinks((1,), n-1)\n",
    "    stone_str = str(stone_line[0])\n",
    "    l = len(stone_str)\n",
    "    halfl = l//2\n",
    "\n",
    "    if l % 2 == 0:\n",
    "        first = (int(stone_str[0:halfl]),)\n",
    "        second = (int(stone_str[halfl:]),)\n",
    "        return num_stone_line_after_n_blinks(first, n-1) + num_stone_line_after_n_blinks(second, n-1)\n",
    "    return num_stone_line_after_n_blinks((stone_line[0] * 2024,), n-1)"
   ]
  },
  {
   "cell_type": "code",
   "execution_count": null,
   "metadata": {},
   "outputs": [],
   "source": [
    "# part1\n",
    "num_stone_line_after_n_blinks(x, 25)"
   ]
  },
  {
   "cell_type": "code",
   "execution_count": null,
   "metadata": {},
   "outputs": [],
   "source": [
    "# part2\n",
    "num_stone_line_after_n_blinks(x, 75)"
   ]
  }
 ],
 "metadata": {
  "kernelspec": {
   "display_name": ".venv",
   "language": "python",
   "name": "python3"
  },
  "language_info": {
   "codemirror_mode": {
    "name": "ipython",
    "version": 3
   },
   "file_extension": ".py",
   "mimetype": "text/x-python",
   "name": "python",
   "nbconvert_exporter": "python",
   "pygments_lexer": "ipython3",
   "version": "3.9.6"
  }
 },
 "nbformat": 4,
 "nbformat_minor": 2
}
