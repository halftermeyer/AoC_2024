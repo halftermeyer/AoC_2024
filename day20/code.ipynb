{
 "cells": [
  {
   "cell_type": "markdown",
   "metadata": {},
   "source": [
    "# advent of code 2024 - [day 20](https://adventofcode.com/2024/day/20)\n"
   ]
  },
  {
   "cell_type": "markdown",
   "metadata": {},
   "source": [
    "### Parsing"
   ]
  },
  {
   "cell_type": "code",
   "execution_count": 45,
   "metadata": {},
   "outputs": [],
   "source": [
    "def gen_lists(file='input.txt'):\n",
    "    file = open(file, 'r')\n",
    "    for ix, line in enumerate(file):\n",
    "        for jx, c in enumerate(line.strip()):\n",
    "            yield ix, jx, c"
   ]
  },
  {
   "cell_type": "code",
   "execution_count": 46,
   "metadata": {},
   "outputs": [],
   "source": [
    "filename = \"input.txt\"\n",
    "#filename = \"test.txt\""
   ]
  },
  {
   "cell_type": "markdown",
   "metadata": {},
   "source": [
    "## Graph Solution"
   ]
  },
  {
   "cell_type": "code",
   "execution_count": 47,
   "metadata": {},
   "outputs": [
    {
     "name": "stdout",
     "output_type": "stream",
     "text": [
      "2.13.0\n"
     ]
    }
   ],
   "source": [
    "import os\n",
    "\n",
    "NEO4J_URI = os.environ['NEO4J_URI']\n",
    "NEO4J_USERNAME = os.environ['NEO4J_USERNAME']\n",
    "NEO4J_PASSWORD = os.environ['NEO4J_PASSWORD']\n",
    "\n",
    "from graphdatascience import GraphDataScience\n",
    "gds = GraphDataScience(NEO4J_URI, auth=(NEO4J_USERNAME, NEO4J_PASSWORD))\n",
    "\n",
    "# Check the installed GDS version on the server\n",
    "print(gds.version())\n",
    "assert gds.version()\n",
    "\n",
    "from neo4j import GraphDatabase\n",
    "driver = GraphDatabase.driver(NEO4J_URI, auth=(NEO4J_USERNAME, NEO4J_PASSWORD))"
   ]
  },
  {
   "cell_type": "code",
   "execution_count": 48,
   "metadata": {},
   "outputs": [],
   "source": [
    "# cleaning\n",
    "def clean():\n",
    "    queries = [\n",
    "    \"CALL apoc.schema.assert({},{});\",\n",
    "    \"\"\"MATCH (n)\n",
    "    CALL {WITH n DETACH DELETE n}\n",
    "    IN TRANSACTIONS OF 1000 ROWS;\"\"\",\n",
    "    \"\"\"CALL gds.graph.list()\n",
    "    YIELD graphName\n",
    "    WITH graphName AS g\n",
    "    CALL (g) {CALL gds.graph.drop(g) YIELD graphName RETURN graphName}\n",
    "    WITH graphName RETURN graphName;\"\"\"]\n",
    "\n",
    "    for q in queries:\n",
    "        gds.run_cypher(q, {})"
   ]
  },
  {
   "cell_type": "markdown",
   "metadata": {},
   "source": [
    "### Ingestion\n"
   ]
  },
  {
   "cell_type": "code",
   "execution_count": 49,
   "metadata": {},
   "outputs": [],
   "source": [
    "def ingest(filename):\n",
    "\n",
    "    tiles = [{'row':ix, 'col':jx, 'val':c} for ix, jx, c in list(gen_lists(filename))]\n",
    "    \n",
    "    clean()\n",
    "\n",
    "    gds.run_cypher('CREATE INDEX tile_col_row IF NOT EXISTS FOR (t:Tile) ON (t.col, t.row)')\n",
    "    gds.run_cypher('CREATE INDEX tile_val IF NOT EXISTS FOR (t:Tile) ON (t.val)')\n",
    "    \n",
    "    query_ingest = \"\"\"\n",
    "    UNWIND $tiles AS tile\n",
    "    CREATE (:Tile {row:tile.row, col:tile.col, val:tile.val} )\n",
    "    \"\"\"\n",
    "\n",
    "    gds.run_cypher(query_ingest, {\"tiles\":tiles})"
   ]
  },
  {
   "cell_type": "markdown",
   "metadata": {},
   "source": [
    "## part 1"
   ]
  },
  {
   "cell_type": "code",
   "execution_count": 50,
   "metadata": {},
   "outputs": [],
   "source": [
    "part1_build_queries = [\"\"\"MATCH (t:Tile)\n",
    "WITH t.row AS row_num, t ORDER BY t.col\n",
    "WITH row_num, collect(t) AS row\n",
    "CALL apoc.nodes.link(row, 'EAST')\"\"\",\n",
    "\"\"\"MATCH (t:Tile)\n",
    "WITH t.col AS col_num, t ORDER BY t.row\n",
    "WITH col_num, collect(t) AS col\n",
    "CALL apoc.nodes.link(col, 'SOUTH')\"\"\",\n",
    "\"\"\"\n",
    "MATCH (a)-[r:SOUTH|EAST]->(b)\n",
    "SET r.no_cheat=false\n",
    "\"\"\",\n",
    "\"\"\"\n",
    "MATCH (a)-[r:SOUTH|EAST]->(b)\n",
    "WHERE a.val IN ['S', 'E', '.'] AND b.val IN ['S', 'E', '.']\n",
    "SET r.no_cheat=true, r.cost=1\n",
    "\"\"\",\n",
    "\"\"\"\n",
    "MATCH (t:Tile) SET t.X_viz = t.col, t.Y_viz= -t.row \n",
    "\"\"\",\n",
    "\"\"\"MATCH (t:Tile {val:'S'}) SET t:Start\"\"\",\n",
    "\"\"\"MATCH (t:Tile {val:'E'}) SET t:End\"\"\",\n",
    "\"\"\"\n",
    "MATCH (t1:Tile WHERE t1.val IN ['S', 'E', '.'])-[:EAST|SOUTH]-(rock:Tile {val: '#'})-[:EAST|SOUTH]-(t2:Tile WHERE t2.val IN ['S', 'E', '.'])\n",
    "WHERE t1 < t2\n",
    "MERGE (t1)-[:GLITCH {no_cheat:false, cost:2}]->(t2)\n",
    "\"\"\"\n",
    "]"
   ]
  },
  {
   "cell_type": "code",
   "execution_count": 51,
   "metadata": {},
   "outputs": [],
   "source": [
    "ingest(filename)\n",
    "for q in part1_build_queries:\n",
    "    gds.run_cypher(q)"
   ]
  },
  {
   "cell_type": "markdown",
   "metadata": {},
   "source": [
    "## Part 1"
   ]
  },
  {
   "cell_type": "code",
   "execution_count": 52,
   "metadata": {},
   "outputs": [
    {
     "data": {
      "text/html": [
       "<div>\n",
       "<style scoped>\n",
       "    .dataframe tbody tr th:only-of-type {\n",
       "        vertical-align: middle;\n",
       "    }\n",
       "\n",
       "    .dataframe tbody tr th {\n",
       "        vertical-align: top;\n",
       "    }\n",
       "\n",
       "    .dataframe thead th {\n",
       "        text-align: right;\n",
       "    }\n",
       "</style>\n",
       "<table border=\"1\" class=\"dataframe\">\n",
       "  <thead>\n",
       "    <tr style=\"text-align: right;\">\n",
       "      <th></th>\n",
       "      <th>gds.graph.project(\\n  'maze',\\n  source,\\n  target,\\n  {}\\n)</th>\n",
       "    </tr>\n",
       "  </thead>\n",
       "  <tbody>\n",
       "    <tr>\n",
       "      <th>0</th>\n",
       "      <td>{'relationshipCount': 18864, 'graphName': 'maz...</td>\n",
       "    </tr>\n",
       "  </tbody>\n",
       "</table>\n",
       "</div>"
      ],
      "text/plain": [
       "  gds.graph.project(\\n  'maze',\\n  source,\\n  target,\\n  {}\\n)\n",
       "0  {'relationshipCount': 18864, 'graphName': 'maz...          "
      ]
     },
     "execution_count": 52,
     "metadata": {},
     "output_type": "execute_result"
    }
   ],
   "source": [
    "gds.run_cypher(\"\"\"MATCH (source)-[r:EAST|SOUTH {no_cheat:true}]-(target)\n",
    "RETURN gds.graph.project(\n",
    "  'maze',\n",
    "  source,\n",
    "  target,\n",
    "  {}\n",
    ")\"\"\")"
   ]
  },
  {
   "cell_type": "code",
   "execution_count": 53,
   "metadata": {},
   "outputs": [],
   "source": [
    "no_cheat_distance = gds.run_cypher(\"\"\"MATCH (start:Start), (end:End)\n",
    "CALL gds.shortestPath.dijkstra.stream('maze', {\n",
    "    sourceNode: start,\n",
    "    targetNodes: end\n",
    "})\n",
    "YIELD totalCost\n",
    "RETURN\n",
    "    toInteger(totalCost) AS no_cheat_distance\"\"\")['no_cheat_distance'][0]\n",
    "\n",
    "\n"
   ]
  },
  {
   "cell_type": "code",
   "execution_count": 54,
   "metadata": {},
   "outputs": [
    {
     "data": {
      "text/plain": [
       "9432"
      ]
     },
     "execution_count": 54,
     "metadata": {},
     "output_type": "execute_result"
    }
   ],
   "source": [
    "no_cheat_distance"
   ]
  },
  {
   "cell_type": "code",
   "execution_count": 55,
   "metadata": {},
   "outputs": [
    {
     "data": {
      "text/html": [
       "<div>\n",
       "<style scoped>\n",
       "    .dataframe tbody tr th:only-of-type {\n",
       "        vertical-align: middle;\n",
       "    }\n",
       "\n",
       "    .dataframe tbody tr th {\n",
       "        vertical-align: top;\n",
       "    }\n",
       "\n",
       "    .dataframe thead th {\n",
       "        text-align: right;\n",
       "    }\n",
       "</style>\n",
       "<table border=\"1\" class=\"dataframe\">\n",
       "  <thead>\n",
       "    <tr style=\"text-align: right;\">\n",
       "      <th></th>\n",
       "    </tr>\n",
       "  </thead>\n",
       "  <tbody>\n",
       "  </tbody>\n",
       "</table>\n",
       "</div>"
      ],
      "text/plain": [
       "Empty DataFrame\n",
       "Columns: []\n",
       "Index: []"
      ]
     },
     "execution_count": 55,
     "metadata": {},
     "output_type": "execute_result"
    }
   ],
   "source": [
    "gds.run_cypher('CREATE INDEX glitch_id IF NOT EXISTS FOR (gl:Glitch) ON (gl.id)')\n",
    "gds.run_cypher('CREATE INDEX glitch_cost IF NOT EXISTS FOR (gl:Glitch) ON (gl.cost)')"
   ]
  },
  {
   "cell_type": "code",
   "execution_count": 56,
   "metadata": {},
   "outputs": [],
   "source": [
    "gds.run_cypher(\"\"\"\n",
    "MATCH (a)-[g:GLITCH]-(b)\n",
    "WHERE NOT EXISTS {(glitch:Glitch {id:'maze_'+elementId(a)+'_'+elementId(g)+'_'+elementId(b)})} \n",
    "CALL (a, g, b) {\n",
    "  CALL (a, g, b) {\n",
    "    MATCH (source)-[r:EAST|SOUTH {no_cheat:true}]-(target)\n",
    "    RETURN source, target, r\n",
    "    \n",
    "    UNION\n",
    "\n",
    "    RETURN a AS source, b AS target, g AS r\n",
    "  }\n",
    "  WITH a, g, b, gds.graph.project(\n",
    "    'maze_'+elementId(a)+'_'+elementId(g)+'_'+elementId(b),\n",
    "    source,\n",
    "    target,\n",
    "    { relationshipProperties: r { .cost } }\n",
    "  ) AS graph\n",
    "  MATCH (start:Start), (end:End)\n",
    "  CALL gds.shortestPath.dijkstra.stream('maze_'+elementId(a)+'_'+elementId(g)+'_'+elementId(b), {\n",
    "      sourceNode: start,\n",
    "      targetNodes: end,\n",
    "    relationshipWeightProperty: 'cost'\n",
    "  })\n",
    "  YIELD totalCost\n",
    "  WITH a, g, b, totalCost\n",
    "  CALL gds.graph.drop('maze_'+elementId(a)+'_'+elementId(g)+'_'+elementId(b)) YIELD graphName\n",
    "  WITH a, g, b, totalCost       \n",
    "  MERGE (glitch:Glitch {id:'maze_'+elementId(a)+'_'+elementId(g)+'_'+elementId(b)})\n",
    "      SET glitch.score = totalCost\n",
    "} IN CONCURRENT TRANSACTIONS OF 10 ROWS\n",
    "\"\"\")"
   ]
  },
  {
   "cell_type": "code",
   "execution_count": 57,
   "metadata": {},
   "outputs": [
    {
     "data": {
      "text/html": [
       "<div>\n",
       "<style scoped>\n",
       "    .dataframe tbody tr th:only-of-type {\n",
       "        vertical-align: middle;\n",
       "    }\n",
       "\n",
       "    .dataframe tbody tr th {\n",
       "        vertical-align: top;\n",
       "    }\n",
       "\n",
       "    .dataframe thead th {\n",
       "        text-align: right;\n",
       "    }\n",
       "</style>\n",
       "<table border=\"1\" class=\"dataframe\">\n",
       "  <thead>\n",
       "    <tr style=\"text-align: right;\">\n",
       "      <th></th>\n",
       "      <th>part1</th>\n",
       "    </tr>\n",
       "  </thead>\n",
       "  <tbody>\n",
       "    <tr>\n",
       "      <th>0</th>\n",
       "      <td>0</td>\n",
       "    </tr>\n",
       "  </tbody>\n",
       "</table>\n",
       "</div>"
      ],
      "text/plain": [
       "   part1\n",
       "0      0"
      ]
     },
     "execution_count": 57,
     "metadata": {},
     "output_type": "execute_result"
    }
   ],
   "source": [
    "gds.run_cypher(\"\"\"\n",
    "RETURN toInteger(COUNT{(g:Glitch WHERE g.score <= $no_cheat_distance - $threshold)}) AS part1\n",
    "\"\"\",{'no_cheat_distance':no_cheat_distance, 'threshold':100})"
   ]
  },
  {
   "cell_type": "code",
   "execution_count": null,
   "metadata": {},
   "outputs": [
    {
     "data": {
      "text/html": [
       "<div>\n",
       "<style scoped>\n",
       "    .dataframe tbody tr th:only-of-type {\n",
       "        vertical-align: middle;\n",
       "    }\n",
       "\n",
       "    .dataframe tbody tr th {\n",
       "        vertical-align: top;\n",
       "    }\n",
       "\n",
       "    .dataframe thead th {\n",
       "        text-align: right;\n",
       "    }\n",
       "</style>\n",
       "<table border=\"1\" class=\"dataframe\">\n",
       "  <thead>\n",
       "    <tr style=\"text-align: right;\">\n",
       "      <th></th>\n",
       "      <th>part2</th>\n",
       "    </tr>\n",
       "  </thead>\n",
       "  <tbody>\n",
       "    <tr>\n",
       "      <th>0</th>\n",
       "      <td>1008040</td>\n",
       "    </tr>\n",
       "  </tbody>\n",
       "</table>\n",
       "</div>"
      ],
      "text/plain": [
       "     part2\n",
       "0  1008040"
      ]
     },
     "execution_count": 59,
     "metadata": {},
     "output_type": "execute_result"
    }
   ],
   "source": [
    "gds.run_cypher(\"\"\"MATCH (start:Start)\n",
    "CALL gds.allShortestPaths.dijkstra.write('maze', {\n",
    "    sourceNode: start,\n",
    "    writeRelationshipType: 'PATH_FROM_START',\n",
    "    writeCosts: true\n",
    "})\n",
    "YIELD relationshipsWritten\n",
    "RETURN relationshipsWritten\"\"\")\n",
    "\n",
    "gds.run_cypher(\"\"\"MATCH (end:End)\n",
    "CALL gds.allShortestPaths.dijkstra.write('maze', {\n",
    "    sourceNode: end,\n",
    "    writeRelationshipType: 'PATH_FROM_END',\n",
    "    writeCosts: true\n",
    "})\n",
    "YIELD relationshipsWritten\n",
    "RETURN relationshipsWritten\"\"\")\n",
    "\n",
    "\n",
    "gds.run_cypher(\"\"\"CYPHER runtime= parallel\n",
    "MATCH path = (:Start)-[ps:PATH_FROM_START]->(g_start:Tile), (:End)-[pe:PATH_FROM_END]->(g_end:Tile)\n",
    "WITH path, ps, g_start, pe, g_end, abs(g_end.col-g_start.col) + abs(g_end.row-g_start.row) AS manhattan\n",
    "WHERE manhattan <= 20\n",
    "AND ps.totalCost + manhattan + pe.totalCost  <= $no_cheat_distance - $threshold\n",
    "WITH DISTINCT g_start, g_end\n",
    "RETURN count(*) AS part2\"\"\", {'no_cheat_distance':no_cheat_distance, 'threshold':100})"
   ]
  },
  {
   "cell_type": "code",
   "execution_count": null,
   "metadata": {},
   "outputs": [],
   "source": []
  }
 ],
 "metadata": {
  "kernelspec": {
   "display_name": ".venv",
   "language": "python",
   "name": "python3"
  },
  "language_info": {
   "codemirror_mode": {
    "name": "ipython",
    "version": 3
   },
   "file_extension": ".py",
   "mimetype": "text/x-python",
   "name": "python",
   "nbconvert_exporter": "python",
   "pygments_lexer": "ipython3",
   "version": "3.9.6"
  }
 },
 "nbformat": 4,
 "nbformat_minor": 2
}
