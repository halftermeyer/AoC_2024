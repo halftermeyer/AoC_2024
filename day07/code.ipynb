{
 "cells": [
  {
   "cell_type": "markdown",
   "metadata": {},
   "source": [
    "# advent of code 2024 - [day 7](https://adventofcode.com/2024/day/7)"
   ]
  },
  {
   "cell_type": "markdown",
   "metadata": {},
   "source": [
    "### Parsing"
   ]
  },
  {
   "cell_type": "code",
   "execution_count": null,
   "metadata": {},
   "outputs": [],
   "source": [
    "def gen_equations(file='input.txt'):\n",
    "    \"\"\"Generates tuples of integers\"\"\"\n",
    "    file = open(file, 'r')\n",
    "    for _, line in enumerate(file):\n",
    "        els = tuple(line.split(\":\"))\n",
    "        yield tuple((int(els[0]), tuple(int(x) for x in els[1].strip().split(' '))))"
   ]
  },
  {
   "cell_type": "code",
   "execution_count": null,
   "metadata": {},
   "outputs": [],
   "source": [
    "file = \"input.txt\"\n",
    "#file = \"test.txt\""
   ]
  },
  {
   "cell_type": "markdown",
   "metadata": {},
   "source": [
    "## Python solution"
   ]
  },
  {
   "cell_type": "code",
   "execution_count": null,
   "metadata": {},
   "outputs": [],
   "source": [
    "from functools import cache\n",
    "\n",
    "operators = {\n",
    "    '*':lambda test_value, numbers, ops: test_value % numbers[-1] == 0 and is_valid_equation(test_value//numbers[-1], numbers[:-1], ops),\n",
    "    '+':lambda test_value, numbers, ops: test_value - numbers[-1] >= 0 and is_valid_equation(test_value-numbers[-1], numbers[:-1], ops),\n",
    "    '|':lambda test_value, numbers, ops: str(test_value)[1:].endswith(str(numbers[-1])) and is_valid_equation(int(str(test_value)[:-len(str(numbers[-1]))]), numbers[:-1], ops)\n",
    "}\n",
    "\n",
    "@cache\n",
    "def is_valid_equation(test_value, numbers, ops):\n",
    "    if len (numbers) == 1:\n",
    "        return test_value == numbers[-1]\n",
    "    else:\n",
    "        return any(operators[k](test_value, numbers, ops) for k in operators if k in ops)\n",
    "    \n",
    "part1, part2 = (sum([x[0] if is_valid_equation(x[0], x[1], ops) else 0 for x in gen_equations(file)]) for ops in [('*','+'),('*','+','|')]) \n",
    "part1, part2"
   ]
  },
  {
   "cell_type": "markdown",
   "metadata": {},
   "source": [
    "## Graph Solution"
   ]
  },
  {
   "cell_type": "code",
   "execution_count": null,
   "metadata": {},
   "outputs": [],
   "source": [
    "import os\n",
    "\n",
    "NEO4J_URI = os.environ['NEO4J_URI']\n",
    "NEO4J_USERNAME = os.environ['NEO4J_USERNAME']\n",
    "NEO4J_PASSWORD = os.environ['NEO4J_PASSWORD']\n",
    "\n",
    "from graphdatascience import GraphDataScience\n",
    "gds = GraphDataScience(NEO4J_URI, auth=(NEO4J_USERNAME, NEO4J_PASSWORD))\n",
    "\n",
    "# Check the installed GDS version on the server\n",
    "print(gds.version())\n",
    "assert gds.version()\n",
    "\n",
    "from neo4j import GraphDatabase\n",
    "driver = GraphDatabase.driver(NEO4J_URI, auth=(NEO4J_USERNAME, NEO4J_PASSWORD))\n",
    "\n",
    "import pandas as pd\n",
    "\n",
    "def infer (rules, params={}):\n",
    "    \"\"\"\n",
    "    This is a function you can use if you want to run a set of inference rules\n",
    "    until a convergence is reached. why not use it in a RDF-like reasoning context?\n",
    "    \"\"\"\n",
    "    counter = 0\n",
    "    while True:\n",
    "        counter += 1\n",
    "        any_update = False\n",
    "        for rule in rules:\n",
    "            with driver.session(database=\"neo4j\") as session:\n",
    "                result = session.run(rule, params)\n",
    "            any_update = any_update or result.consume().counters._contains_updates\n",
    "        if not any_update:\n",
    "            break"
   ]
  },
  {
   "cell_type": "code",
   "execution_count": null,
   "metadata": {},
   "outputs": [],
   "source": [
    "# cleaning\n",
    "def clean():\n",
    "    queries = [\n",
    "    \"CALL apoc.schema.assert({},{});\",\n",
    "    \"\"\"MATCH (n)\n",
    "    CALL {WITH n DETACH DELETE n}\n",
    "    IN TRANSACTIONS OF 1000 ROWS;\"\"\",\n",
    "    \"\"\"CALL gds.graph.list()\n",
    "    YIELD graphName\n",
    "    WITH graphName AS g\n",
    "    CALL (g) {CALL gds.graph.drop(g) YIELD graphName RETURN graphName}\n",
    "    WITH graphName RETURN graphName;\"\"\"]\n",
    "\n",
    "    for q in queries:\n",
    "        gds.run_cypher(q, {})"
   ]
  },
  {
   "cell_type": "markdown",
   "metadata": {},
   "source": [
    "### Ingestion\n"
   ]
  },
  {
   "cell_type": "code",
   "execution_count": null,
   "metadata": {},
   "outputs": [],
   "source": [
    "equations = [{'test_value': test_value, 'numbers':list(numbers)} for test_value, numbers in gen_equations(file)]"
   ]
  },
  {
   "cell_type": "code",
   "execution_count": null,
   "metadata": {},
   "outputs": [],
   "source": [
    "def ingest(equations):\n",
    "\n",
    "\n",
    "    gds.run_cypher('CREATE INDEX equation_test_value_numbers IF NOT EXISTS FOR (eq:Equation) ON (eq.test_value, eq.number)')\n",
    "    \n",
    "    query_ingest = \"\"\"\n",
    "    UNWIND $equations AS eq\n",
    "    CREATE (eq_node:Equation)\n",
    "    SET eq_node += eq, eq_node:Root\n",
    "    \"\"\"\n",
    "\n",
    "    gds.run_cypher(query_ingest, {'equations':equations})"
   ]
  },
  {
   "cell_type": "code",
   "execution_count": null,
   "metadata": {},
   "outputs": [],
   "source": [
    "clean()\n",
    "ingest(equations)"
   ]
  },
  {
   "cell_type": "markdown",
   "metadata": {},
   "source": [
    "### Part 1"
   ]
  },
  {
   "cell_type": "code",
   "execution_count": null,
   "metadata": {},
   "outputs": [],
   "source": [
    "sat_query = \"\"\"\n",
    "MATCH (eq:Equation&!(Satisfiable|Unsatisfiable))\n",
    "WHERE size(eq.numbers) = 1 AND eq.numbers[0] = eq.test_value\n",
    "SET eq:Satisfiable\n",
    "\"\"\"\n",
    "\n",
    "unsat_query = \"\"\"\n",
    "MATCH (eq:Equation&!(Satisfiable|Unsatisfiable))\n",
    "WHERE size(eq.numbers) = 1 AND eq.numbers[0] <> eq.test_value\n",
    "SET eq:Unsatisfiable\n",
    "\"\"\"\n",
    "\n",
    "addition_query = \"\"\"\n",
    "MATCH (eq:Equation&!(Satisfiable|Unsatisfiable)&!AdditionUnpacked)\n",
    "SET eq:AdditionUnpacked\n",
    "WITH eq\n",
    "WHERE size(eq.numbers) > 1 AND eq.test_value > eq.numbers[-1]\n",
    "MERGE (eq_plus:Equation {test_value: eq.test_value-eq.numbers[-1], numbers: eq.numbers[..-1]})\n",
    "MERGE (eq)-[:SATISFIABLE_IF {op: '+'}]->(eq_plus)\n",
    "\"\"\"\n",
    "\n",
    "multiplication_query = \"\"\"\n",
    "MATCH (eq:Equation&!(Satisfiable|Unsatisfiable)&!MultiplicationUnpacked)\n",
    "SET eq:MultiplicationUnpacked\n",
    "WITH eq\n",
    "WHERE size(eq.numbers) > 1 AND eq.test_value % eq.numbers[-1] = 0\n",
    "MERGE (eq_mult:Equation {test_value: eq.test_value/eq.numbers[-1], numbers: eq.numbers[..-1]})\n",
    "MERGE (eq)-[:SATISFIABLE_IF {op: '*'}]->(eq_mult)\n",
    "\"\"\"\n",
    "\n",
    "sat_backpropagation_query = \"\"\"\n",
    "MATCH (eq:Equation&!(Satisfiable|Unsatisfiable))-[:SATISFIABLE_IF]->(:Satisfiable)\n",
    "SET eq:Satisfiable\n",
    "\"\"\"\n",
    "\n",
    "unsat_backpropagation_query = \"\"\"\n",
    "MATCH (eq:Equation&!(Satisfiable|Unsatisfiable)&MultiplicationUnpacked&AdditionUnpacked)\n",
    "WHERE NOT EXISTS {(eq)-[:SATISFIABLE_IF]->(x:!Unsatisfiable)}\n",
    "SET eq:Unsatisfiable\n",
    "\"\"\"\n",
    "\n",
    "rules =[sat_query, unsat_query, addition_query, multiplication_query, sat_backpropagation_query, unsat_backpropagation_query]\n",
    "infer(rules)"
   ]
  },
  {
   "cell_type": "code",
   "execution_count": null,
   "metadata": {},
   "outputs": [],
   "source": [
    "part1_query = \"\"\"\n",
    "MATCH (n:Root&Satisfiable)\n",
    "RETURN sum(n.test_value) AS part1\n",
    "\"\"\"\n",
    "gds.run_cypher(part1_query, {})"
   ]
  },
  {
   "cell_type": "markdown",
   "metadata": {},
   "source": [
    "### Part 2"
   ]
  },
  {
   "cell_type": "code",
   "execution_count": null,
   "metadata": {},
   "outputs": [],
   "source": [
    "clean()\n",
    "ingest(equations)"
   ]
  },
  {
   "cell_type": "code",
   "execution_count": null,
   "metadata": {},
   "outputs": [],
   "source": [
    "concatenation_query = \"\"\"\n",
    "MATCH (eq:Equation&!(Satisfiable|Unsatisfiable)&!ConcatenationUnpacked)\n",
    "SET eq:ConcatenationUnpacked\n",
    "WITH eq\n",
    "WHERE size(eq.numbers) > 1 AND eq.test_value > eq.numbers[-1] AND toString(eq.test_value) ENDS WITH toString(eq.numbers[-1])\n",
    "WITH eq, toString(eq.test_value) AS tv_string, toString(eq.numbers[-1]) AS last_string\n",
    "WITH eq, left(tv_string, size(tv_string)-size(last_string)) AS left_string\n",
    "MERGE (eq_concat:Equation {test_value: toInteger(left_string), numbers: eq.numbers[..-1]})\n",
    "MERGE (eq)-[:SATISFIABLE_IF {op: '|'}]->(eq_concat)\n",
    "\"\"\"\n",
    "\n",
    "unsat_backpropagation_query = \"\"\"\n",
    "MATCH (eq:Equation&!(Satisfiable|Unsatisfiable)&MultiplicationUnpacked&AdditionUnpacked&ConcatenationUnpacked)\n",
    "WHERE NOT EXISTS {(eq)-[:SATISFIABLE_IF]->(x:!Unsatisfiable)}\n",
    "SET eq:Unsatisfiable\n",
    "\"\"\"\n",
    "\n",
    "rules = [sat_query, unsat_query, addition_query, multiplication_query, concatenation_query, sat_backpropagation_query, unsat_backpropagation_query]\n",
    "infer(rules)"
   ]
  },
  {
   "cell_type": "code",
   "execution_count": null,
   "metadata": {},
   "outputs": [],
   "source": [
    "part2_query = \"\"\"\n",
    "MATCH (n:Root&Satisfiable)\n",
    "RETURN sum(n.test_value) AS part1\n",
    "\"\"\"\n",
    "gds.run_cypher(part2_query, {})"
   ]
  }
 ],
 "metadata": {
  "kernelspec": {
   "display_name": ".venv",
   "language": "python",
   "name": "python3"
  },
  "language_info": {
   "codemirror_mode": {
    "name": "ipython",
    "version": 3
   },
   "file_extension": ".py",
   "mimetype": "text/x-python",
   "name": "python",
   "nbconvert_exporter": "python",
   "pygments_lexer": "ipython3",
   "version": "3.9.6"
  }
 },
 "nbformat": 4,
 "nbformat_minor": 2
}
