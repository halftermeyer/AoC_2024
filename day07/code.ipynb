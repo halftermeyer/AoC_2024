{
 "cells": [
  {
   "cell_type": "markdown",
   "metadata": {},
   "source": [
    "# advent of code 2024 - [day 7](https://adventofcode.com/2024/day/7)"
   ]
  },
  {
   "cell_type": "code",
   "execution_count": 1,
   "metadata": {},
   "outputs": [],
   "source": [
    "def gen_lists(file='input.txt'):\n",
    "    \"\"\"Generates tuples of integers\"\"\"\n",
    "    file = open(file, 'r')\n",
    "    for _, line in enumerate(file):\n",
    "        els = tuple(line.split(\":\"))\n",
    "        yield tuple((int(els[0]), tuple(int(x) for x in els[1].strip().split(' '))))"
   ]
  },
  {
   "cell_type": "code",
   "execution_count": 2,
   "metadata": {},
   "outputs": [],
   "source": [
    "file = \"input.txt\"\n",
    "#file = \"test.txt\""
   ]
  },
  {
   "cell_type": "markdown",
   "metadata": {},
   "source": [
    "### Python solution"
   ]
  },
  {
   "cell_type": "code",
   "execution_count": 3,
   "metadata": {},
   "outputs": [],
   "source": [
    "from functools import cache"
   ]
  },
  {
   "cell_type": "code",
   "execution_count": 4,
   "metadata": {},
   "outputs": [],
   "source": [
    "@cache\n",
    "def is_valid_equation(test_value, numbers):\n",
    "    if len (numbers) == 1:\n",
    "        return test_value == numbers[-1]\n",
    "    else:\n",
    "        return ((test_value % numbers[-1] == 0 and is_valid_equation(test_value//numbers[-1], numbers[:-1]))\n",
    "                or (test_value - numbers[-1] >= 0 and is_valid_equation(test_value-numbers[-1], numbers[:-1])))"
   ]
  },
  {
   "cell_type": "code",
   "execution_count": 5,
   "metadata": {},
   "outputs": [
    {
     "data": {
      "text/plain": [
       "3598800864292"
      ]
     },
     "execution_count": 5,
     "metadata": {},
     "output_type": "execute_result"
    }
   ],
   "source": [
    "part1 = sum([x[0] if is_valid_equation(x[0], x[1]) else 0 for x in gen_lists(file)])\n",
    "part1"
   ]
  },
  {
   "cell_type": "code",
   "execution_count": 6,
   "metadata": {},
   "outputs": [],
   "source": [
    "@cache\n",
    "def is_valid_equation_3(test_value, numbers):\n",
    "    if len (numbers) == 1:\n",
    "        if (test_value == numbers[-1]):\n",
    "            return True\n",
    "        else:\n",
    "            return False\n",
    "    else:\n",
    "        return ((test_value % numbers[-1] == 0 and is_valid_equation_3(test_value//numbers[-1], numbers[:-1]))\n",
    "                or (test_value - numbers[-1] >= 0 and is_valid_equation_3(test_value-numbers[-1], numbers[:-1]))\n",
    "                or (test_value > numbers[-1] and str(test_value).endswith(str(numbers[-1])) and is_valid_equation_3(int(str(test_value)[:-len(str(numbers[-1]))]), numbers[:-1])))"
   ]
  },
  {
   "cell_type": "code",
   "execution_count": 7,
   "metadata": {},
   "outputs": [
    {
     "data": {
      "text/plain": [
       "340362529351427"
      ]
     },
     "execution_count": 7,
     "metadata": {},
     "output_type": "execute_result"
    }
   ],
   "source": [
    "part2 = sum([x[0] if is_valid_equation_3(x[0], x[1]) else 0 for x in gen_lists(file)])\n",
    "part2"
   ]
  }
 ],
 "metadata": {
  "kernelspec": {
   "display_name": ".venv",
   "language": "python",
   "name": "python3"
  },
  "language_info": {
   "codemirror_mode": {
    "name": "ipython",
    "version": 3
   },
   "file_extension": ".py",
   "mimetype": "text/x-python",
   "name": "python",
   "nbconvert_exporter": "python",
   "pygments_lexer": "ipython3",
   "version": "3.9.6"
  }
 },
 "nbformat": 4,
 "nbformat_minor": 2
}
