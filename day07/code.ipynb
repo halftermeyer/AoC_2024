{
 "cells": [
  {
   "cell_type": "markdown",
   "metadata": {},
   "source": [
    "# advent of code 2024 - [day 7](https://adventofcode.com/2024/day/7)"
   ]
  },
  {
   "cell_type": "markdown",
   "metadata": {},
   "source": [
    "### Parsing"
   ]
  },
  {
   "cell_type": "code",
   "execution_count": null,
   "metadata": {},
   "outputs": [],
   "source": [
    "def gen_equations(file='input.txt'):\n",
    "    \"\"\"Generates tuples of integers\"\"\"\n",
    "    file = open(file, 'r')\n",
    "    for _, line in enumerate(file):\n",
    "        els = tuple(line.split(\":\"))\n",
    "        yield tuple((int(els[0]), tuple(int(x) for x in els[1].strip().split(' '))))"
   ]
  },
  {
   "cell_type": "code",
   "execution_count": null,
   "metadata": {},
   "outputs": [],
   "source": [
    "file = \"input.txt\"\n",
    "#file = \"test.txt\""
   ]
  },
  {
   "cell_type": "markdown",
   "metadata": {},
   "source": [
    "### Python solution"
   ]
  },
  {
   "cell_type": "code",
   "execution_count": null,
   "metadata": {},
   "outputs": [],
   "source": [
    "from functools import cache\n",
    "\n",
    "operators = {\n",
    "    '*':lambda test_value, numbers, ops: test_value % numbers[-1] == 0 and is_valid_equation(test_value//numbers[-1], numbers[:-1], ops),\n",
    "    '+':lambda test_value, numbers, ops: test_value - numbers[-1] >= 0 and is_valid_equation(test_value-numbers[-1], numbers[:-1], ops),\n",
    "    '|':lambda test_value, numbers, ops: str(test_value)[1:].endswith(str(numbers[-1])) and is_valid_equation(int(str(test_value)[:-len(str(numbers[-1]))]), numbers[:-1], ops)\n",
    "}\n",
    "\n",
    "@cache\n",
    "def is_valid_equation(test_value, numbers, ops):\n",
    "    if len (numbers) == 1:\n",
    "        return test_value == numbers[-1]\n",
    "    else:\n",
    "        return any(operators[k](test_value, numbers, ops) for k in operators if k in ops)\n",
    "    \n",
    "part1, part2 = (sum([x[0] if is_valid_equation(x[0], x[1], ops) else 0 for x in gen_equations(file)]) for ops in [('*','+'),('*','+','|')]) \n",
    "part1, part2"
   ]
  }
 ],
 "metadata": {
  "kernelspec": {
   "display_name": ".venv",
   "language": "python",
   "name": "python3"
  },
  "language_info": {
   "codemirror_mode": {
    "name": "ipython",
    "version": 3
   },
   "file_extension": ".py",
   "mimetype": "text/x-python",
   "name": "python",
   "nbconvert_exporter": "python",
   "pygments_lexer": "ipython3",
   "version": "3.9.6"
  }
 },
 "nbformat": 4,
 "nbformat_minor": 2
}
