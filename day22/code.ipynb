{
 "cells": [
  {
   "cell_type": "markdown",
   "metadata": {},
   "source": [
    "# advent of code 2024 - [day 22](https://adventofcode.com/2024/day/22)\n"
   ]
  },
  {
   "cell_type": "markdown",
   "metadata": {},
   "source": [
    "x64 | mix | prune\n",
    "/32 | roundnearest | mix | prune\n",
    "x2028 | mix | prune\n",
    "\n",
    "mix (num, scecret)\n",
    " secrete =  num || secret \n",
    "\n",
    "prune (secret):\n",
    "    secret = secret % 16777216"
   ]
  },
  {
   "cell_type": "code",
   "execution_count": 12,
   "metadata": {},
   "outputs": [],
   "source": [
    "import doctest\n",
    "doctest.testmod()\n",
    "\n",
    "def mixed(num, secret):\n",
    "    \"\"\"\n",
    "    generates a mixed value of secret.\n",
    "\n",
    "    >>> mixed(15, 42)\n",
    "    37\n",
    "    \"\"\"\n",
    "    return num ^ secret"
   ]
  },
  {
   "cell_type": "code",
   "execution_count": 13,
   "metadata": {},
   "outputs": [],
   "source": [
    "doctest.testmod()\n",
    "def pruned(secret, modulo=16777216):\n",
    "    \"\"\"\n",
    "    generates a pruned value of secret.\n",
    "\n",
    "    >>> pruned(100000000)\n",
    "    16113920\n",
    "    \"\"\"\n",
    "    \n",
    "    return secret % modulo\n",
    "        \n"
   ]
  },
  {
   "cell_type": "code",
   "execution_count": 14,
   "metadata": {},
   "outputs": [],
   "source": [
    "def evolve(secret):\n",
    "    while(True):\n",
    "        # step 1\n",
    "        x_64 = secret * 64\n",
    "        secret = mixed(x_64, secret)\n",
    "        secret = pruned(secret)\n",
    "        # step 2\n",
    "        div_32 = secret // 32\n",
    "        secret = mixed(div_32, secret)\n",
    "        secret = pruned(secret)\n",
    "        #step 3\n",
    "        x_2048 = secret * 2048\n",
    "        secret = mixed(x_2048, secret)\n",
    "        secret = pruned(secret)\n",
    "        yield secret\n"
   ]
  },
  {
   "cell_type": "code",
   "execution_count": 15,
   "metadata": {},
   "outputs": [
    {
     "name": "stdout",
     "output_type": "stream",
     "text": [
      "15887950\n",
      "16495136\n",
      "527345\n",
      "704524\n",
      "1553684\n",
      "12683156\n",
      "11100544\n",
      "12249484\n",
      "7753432\n",
      "5908254\n",
      "2731930\n",
      "10144594\n",
      "13647660\n"
     ]
    }
   ],
   "source": [
    "for ix, evolved_secret in enumerate(evolve(123)):\n",
    "    if ix > 12:\n",
    "        break\n",
    "    print(evolved_secret)"
   ]
  },
  {
   "cell_type": "code",
   "execution_count": 16,
   "metadata": {},
   "outputs": [],
   "source": [
    "def gen_initials(file='input.txt'):\n",
    "    file = open(file, 'r')\n",
    "    for ix, line in enumerate(file):\n",
    "        yield int(line.strip())"
   ]
  },
  {
   "cell_type": "code",
   "execution_count": 46,
   "metadata": {},
   "outputs": [],
   "source": [
    "filename = 'input.txt'\n",
    "#filename = 'test.txt'"
   ]
  },
  {
   "cell_type": "code",
   "execution_count": 47,
   "metadata": {},
   "outputs": [
    {
     "name": "stdout",
     "output_type": "stream",
     "text": [
      "part 1: 14476723788\n"
     ]
    }
   ],
   "source": [
    "total = 0\n",
    "for init in gen_initials(filename):\n",
    "    for ix, evolved_secret in enumerate(evolve(init)):\n",
    "        if ix == 1999:\n",
    "            # print(init, ':', evolved_secret)\n",
    "            total += evolved_secret\n",
    "            break\n",
    "print('part 1:', total)\n"
   ]
  },
  {
   "cell_type": "code",
   "execution_count": 48,
   "metadata": {},
   "outputs": [],
   "source": [
    "def sell_bananas(init, seq):\n",
    "    prev_deltas = (11, 11, 11, init % 10)\n",
    "    prev = init % 10\n",
    "    for ix, evolved_secret in enumerate(evolve(init)):\n",
    "        if ix == 1999:\n",
    "            break\n",
    "        new = evolved_secret % 10\n",
    "        #print(prev_deltas)\n",
    "        delta = new - prev\n",
    "        prev = new\n",
    "        prev_deltas = (prev_deltas[1], prev_deltas[2], prev_deltas[3], delta)\n",
    "        if prev_deltas == seq:\n",
    "            #print(init, ':', evolved_secret, new, '(', delta, ')')\n",
    "            return new\n",
    "    return 0"
   ]
  },
  {
   "cell_type": "code",
   "execution_count": 49,
   "metadata": {},
   "outputs": [],
   "source": [
    "# I guess it will be more efficient if I don't do the same computation over and over again\n",
    "\n",
    "def index_bananas(init, index_banana):\n",
    "    index_banana[init] = {}\n",
    "    prev_deltas = (11, 11, 11, init % 10)\n",
    "    prev = init % 10\n",
    "    for ix, evolved_secret in enumerate(evolve(init)):\n",
    "        if ix == 1999:\n",
    "            break\n",
    "        new = evolved_secret % 10\n",
    "        #print(prev_deltas)\n",
    "        delta = new - prev\n",
    "        prev = new\n",
    "        prev_deltas = (prev_deltas[1], prev_deltas[2], prev_deltas[3], delta)\n",
    "        if not prev_deltas in index_banana[init]:\n",
    "            index_banana[init][prev_deltas] = new"
   ]
  },
  {
   "cell_type": "code",
   "execution_count": 50,
   "metadata": {},
   "outputs": [],
   "source": [
    "index_banana =  {}\n",
    "for init in gen_initials(filename):\n",
    "    index_bananas(init, index_banana)"
   ]
  },
  {
   "cell_type": "code",
   "execution_count": 32,
   "metadata": {},
   "outputs": [
    {
     "data": {
      "text/plain": [
       "6"
      ]
     },
     "execution_count": 32,
     "metadata": {},
     "output_type": "execute_result"
    }
   ],
   "source": [
    "sell_bananas(123, (-1,-1,0,2))"
   ]
  },
  {
   "cell_type": "code",
   "execution_count": 21,
   "metadata": {},
   "outputs": [
    {
     "name": "stdout",
     "output_type": "stream",
     "text": [
      "(-2, 1, -1, 3) 23\n"
     ]
    }
   ],
   "source": [
    "seq = (-2,1,-1,3)\n",
    "total = 0\n",
    "for init in gen_initials(filename):\n",
    "    total += sell_bananas(init, seq)\n",
    "print(seq, total)"
   ]
  },
  {
   "cell_type": "code",
   "execution_count": 22,
   "metadata": {},
   "outputs": [],
   "source": [
    "doctest.testmod()\n",
    "\n",
    "def valid_seq(seq):\n",
    "    \"\"\"\n",
    "    prunes absurd sequences\n",
    "\n",
    "    >>> valid_seq((0,0,0,0))\n",
    "    True\n",
    "\n",
    "    >>> valid_seq((9,9,9,9))\n",
    "    False\n",
    "    \"\"\"\n",
    "    total = 0\n",
    "    for s in seq:\n",
    "        total += s\n",
    "        if total > 9 or total < -9:\n",
    "            return False\n",
    "    return True"
   ]
  },
  {
   "cell_type": "code",
   "execution_count": 52,
   "metadata": {},
   "outputs": [
    {
     "name": "stdout",
     "output_type": "stream",
     "text": [
      "(-9, 0, 0, 1) 26\n",
      "(-9, 0, 0, 2) 68\n",
      "(-9, 0, 0, 3) 75\n",
      "(-9, 0, 0, 4) 148\n",
      "(-9, 0, 0, 5) 220\n",
      "(-9, 0, 0, 6) 264\n",
      "(-9, 0, 0, 9) 306\n",
      "(-9, 0, 1, 7) 336\n",
      "(-9, 0, 2, 6) 344\n",
      "(-9, 0, 3, 6) 441\n",
      "(-9, 9, -7, 7) 468\n",
      "(-9, 9, 0, 0) 495\n",
      "(-8, 0, 0, 7) 517\n",
      "(-8, 0, 0, 8) 549\n",
      "(-8, 0, 4, 4) 651\n",
      "(-8, 0, 5, 3) 782\n",
      "(-8, 0, 7, 1) 864\n",
      "(-7, 0, 1, 6) 941\n",
      "(-7, 0, 7, 0) 944\n",
      "(-7, 1, 1, 5) 1092\n",
      "(-6, 0, 5, 1) 1179\n",
      "(-5, 0, 2, 3) 1196\n",
      "(-5, 1, -1, 5) 1201\n",
      "(-5, 1, 3, 1) 1254\n",
      "(-5, 3, 0, 2) 1301\n",
      "(-5, 4, -4, 5) 1302\n",
      "(-4, -1, 0, 5) 1315\n",
      "(-4, 0, 1, 3) 1371\n",
      "(-4, 0, 4, 0) 1402\n",
      "(-4, 1, 0, 3) 1519\n",
      "(-3, 0, -1, 4) 1604\n",
      "(0, -2, 0, 2) 1616\n",
      "(0, 0, 0, 1) 1630\n"
     ]
    }
   ],
   "source": [
    "max_banana = 0\n",
    "for i1 in range(-9, 10):\n",
    "    seq1 = (i1,)\n",
    "    for i2 in range(-9, 10):\n",
    "        seq2 = seq1 + (i2,)\n",
    "        if not valid_seq(seq2):\n",
    "            continue\n",
    "        for i3 in range(-9, 10):\n",
    "            seq3 = seq2 + (i3,)\n",
    "            if not valid_seq(seq3):\n",
    "                continue\n",
    "            for i4 in range(-9, 10):\n",
    "                seq = seq3 + (i4,)\n",
    "                if not valid_seq(seq):\n",
    "                    continue\n",
    "                total = 0\n",
    "                for init in gen_initials(filename):\n",
    "                    if init in index_banana and seq in index_banana[init]:\n",
    "                        total += index_banana[init][seq]\n",
    "                if total > max_banana:\n",
    "                    max_banana = total\n",
    "                    print(seq, total)"
   ]
  }
 ],
 "metadata": {
  "kernelspec": {
   "display_name": ".venv",
   "language": "python",
   "name": "python3"
  },
  "language_info": {
   "codemirror_mode": {
    "name": "ipython",
    "version": 3
   },
   "file_extension": ".py",
   "mimetype": "text/x-python",
   "name": "python",
   "nbconvert_exporter": "python",
   "pygments_lexer": "ipython3",
   "version": "3.9.6"
  }
 },
 "nbformat": 4,
 "nbformat_minor": 2
}
