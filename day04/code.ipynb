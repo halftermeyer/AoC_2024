{
 "cells": [
  {
   "cell_type": "markdown",
   "metadata": {},
   "source": [
    "# advent of code 2024 - [dayX](https://adventofcode.com/2024/day/X)"
   ]
  },
  {
   "cell_type": "code",
   "execution_count": null,
   "metadata": {},
   "outputs": [],
   "source": [
    "import os\n",
    "\n",
    "NEO4J_URI = os.environ['NEO4J_URI']\n",
    "NEO4J_USERNAME = os.environ['NEO4J_USERNAME']\n",
    "NEO4J_PASSWORD = os.environ['NEO4J_PASSWORD']\n"
   ]
  },
  {
   "cell_type": "code",
   "execution_count": null,
   "metadata": {},
   "outputs": [],
   "source": [
    "from graphdatascience import GraphDataScience\n",
    "gds = GraphDataScience(NEO4J_URI, auth=(NEO4J_USERNAME, NEO4J_PASSWORD))\n",
    "\n",
    "# Check the installed GDS version on the server\n",
    "print(gds.version())\n",
    "assert gds.version()\n",
    "\n",
    "from neo4j import GraphDatabase\n",
    "driver = GraphDatabase.driver(NEO4J_URI, auth=(NEO4J_USERNAME, NEO4J_PASSWORD))\n",
    "\n",
    "import pandas as pd"
   ]
  },
  {
   "cell_type": "code",
   "execution_count": null,
   "metadata": {},
   "outputs": [],
   "source": [
    "def gen_lists(file='input.txt'):\n",
    "    \"\"\"Generates tuples of integers\"\"\"\n",
    "    file = open(file, 'r')\n",
    "    for ix, line in enumerate(file):\n",
    "        for jx, c in enumerate(line):\n",
    "            yield ix, jx, c"
   ]
  },
  {
   "cell_type": "markdown",
   "metadata": {},
   "source": [
    "## Neo4j-based solution"
   ]
  },
  {
   "cell_type": "markdown",
   "metadata": {},
   "source": [
    "### Parsing"
   ]
  },
  {
   "cell_type": "code",
   "execution_count": null,
   "metadata": {},
   "outputs": [],
   "source": [
    "tiles = [{'row':ix, 'col':jx, 'val':c} for ix, jx, c in list(gen_lists())]"
   ]
  },
  {
   "cell_type": "markdown",
   "metadata": {},
   "source": [
    "### Ingestion"
   ]
  },
  {
   "cell_type": "code",
   "execution_count": null,
   "metadata": {},
   "outputs": [],
   "source": [
    "query_ingest = \"\"\"\n",
    "UNWIND $tiles AS tile\n",
    "CREATE (:Tile {row:tile.row, col:tile.col, val:tile.val} )\n",
    "\"\"\"\n",
    "\n",
    "gds.run_cypher(query_ingest, {\"tiles\":tiles})"
   ]
  },
  {
   "cell_type": "markdown",
   "metadata": {},
   "source": [
    "### Building lattice"
   ]
  },
  {
   "cell_type": "code",
   "execution_count": null,
   "metadata": {},
   "outputs": [],
   "source": [
    "gds.run_cypher('CREATE INDEX tile_row IF NOT EXISTS FOR (r:Tile) ON (r.row)')\n",
    "gds.run_cypher('CREATE INDEX tile_col IF NOT EXISTS FOR (r:Tile) ON (r.col)')\n",
    "gds.run_cypher('CREATE INDEX tile_val IF NOT EXISTS FOR (r:Tile) ON (r.val)')"
   ]
  },
  {
   "cell_type": "code",
   "execution_count": null,
   "metadata": {},
   "outputs": [],
   "source": [
    "gds.run_cypher(\"\"\"\n",
    "MATCH (t:Tile)\n",
    "WITH t.row AS row_num, t ORDER BY t.col\n",
    "WITH row_num, collect(t) AS row\n",
    "CALL apoc.nodes.link(row, 'EAST')\n",
    "\"\"\")"
   ]
  },
  {
   "cell_type": "code",
   "execution_count": null,
   "metadata": {},
   "outputs": [],
   "source": [
    "gds.run_cypher(\"\"\"\n",
    "MATCH (t:Tile)\n",
    "WITH t.col AS col_num, t ORDER BY t.row\n",
    "WITH col_num, collect(t) AS col\n",
    "CALL apoc.nodes.link(col, 'SOUTH')\n",
    "\"\"\")"
   ]
  },
  {
   "cell_type": "code",
   "execution_count": null,
   "metadata": {},
   "outputs": [],
   "source": [
    "gds.run_cypher(\"\"\"\n",
    "MATCH (a)-[:EAST]->(b)-[:SOUTH]->(c)<-[:EAST]->(d)<-[:SOUTH]-(a)\n",
    "MERGE (a)-[:SOUTH_EAST]->(c)\n",
    "MERGE (b)-[:SOUTH_WEST]->(d)\n",
    "\"\"\")"
   ]
  },
  {
   "cell_type": "markdown",
   "metadata": {},
   "source": [
    "### Part 1"
   ]
  },
  {
   "cell_type": "code",
   "execution_count": null,
   "metadata": {},
   "outputs": [],
   "source": [
    "gds.run_cypher(\"\"\"\n",
    "CALL (){\n",
    "MATCH path=(a {val:'X'})-[r1]->(b {val:'M'})-[r2]->(c {val:'A'})-[r3]->(d {val:'S'})\n",
    "WHERE type(r1) = type(r2) = type(r3)\n",
    "RETURN path\n",
    "\n",
    "UNION\n",
    "\n",
    "MATCH path=(a {val:'S'})-[r1]->(b {val:'A'})-[r2]->(c {val:'M'})-[r3]->(d {val:'X'})\n",
    "WHERE type(r1) = type(r2) = type(r3)\n",
    "RETURN path\n",
    "}\n",
    "RETURN count(path) AS part1\n",
    "\"\"\")"
   ]
  },
  {
   "cell_type": "markdown",
   "metadata": {},
   "source": [
    "### Part 2"
   ]
  },
  {
   "cell_type": "code",
   "execution_count": null,
   "metadata": {},
   "outputs": [],
   "source": [
    "gds.run_cypher(\"\"\"\n",
    "MATCH path1=(a {val:'M'})-[:SOUTH_EAST]-(b {val:'A'})-[:SOUTH_EAST]-(c {val:'S'}),\n",
    "path2 = (d {val:'M'})-[:SOUTH_WEST]-(b)-[:SOUTH_WEST]-(e {val:'S'})\n",
    "RETURN count(*) AS part2\n",
    "\"\"\")"
   ]
  }
 ],
 "metadata": {
  "kernelspec": {
   "display_name": ".venv",
   "language": "python",
   "name": "python3"
  },
  "language_info": {
   "codemirror_mode": {
    "name": "ipython",
    "version": 3
   },
   "file_extension": ".py",
   "mimetype": "text/x-python",
   "name": "python",
   "nbconvert_exporter": "python",
   "pygments_lexer": "ipython3",
   "version": "3.9.6"
  }
 },
 "nbformat": 4,
 "nbformat_minor": 2
}
