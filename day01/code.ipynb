{
 "cells": [
  {
   "cell_type": "markdown",
   "metadata": {},
   "source": [
    "# advent of code 2024 - [day 1](https://adventofcode.com/2024/day/1)"
   ]
  },
  {
   "cell_type": "markdown",
   "metadata": {},
   "source": [
    "## python solution"
   ]
  },
  {
   "cell_type": "code",
   "execution_count": null,
   "metadata": {},
   "outputs": [],
   "source": [
    "def gen_lists(file='input.txt'):\n",
    "    \"\"\"Generates tuples of integers\"\"\"\n",
    "    file = open(file, 'r')\n",
    "    for _, line in enumerate(file):\n",
    "        els = line.strip().split(\"   \")\n",
    "        yield (int(el) for el in els)\n",
    "\n",
    "list_1 = list(el for el, _ in gen_lists())\n",
    "list_2 = list(el for _, el in gen_lists())\n",
    "part1 = sum([abs(first-second) for first, second in zip(sorted(list_1), sorted(list_2))])\n",
    "part2 = sum(x * list_2.count(x) for x in list_1)\n",
    "\n",
    "part1, part2"
   ]
  },
  {
   "cell_type": "markdown",
   "metadata": {},
   "source": [
    "## Neo4j-based solution"
   ]
  },
  {
   "cell_type": "code",
   "execution_count": null,
   "metadata": {},
   "outputs": [],
   "source": [
    "import os\n",
    "\n",
    "NEO4J_URI = os.environ['NEO4J_URI']\n",
    "NEO4J_USERNAME = os.environ['NEO4J_USERNAME']\n",
    "NEO4J_PASSWORD = os.environ['NEO4J_PASSWORD']\n"
   ]
  },
  {
   "cell_type": "code",
   "execution_count": null,
   "metadata": {},
   "outputs": [],
   "source": [
    "from graphdatascience import GraphDataScience\n",
    "gds = GraphDataScience(NEO4J_URI, auth=(NEO4J_USERNAME, NEO4J_PASSWORD))\n",
    "\n",
    "# Check the installed GDS version on the server\n",
    "print(gds.version())\n",
    "assert gds.version()\n",
    "\n",
    "from neo4j import GraphDatabase\n",
    "driver = GraphDatabase.driver(NEO4J_URI, auth=(NEO4J_USERNAME, NEO4J_PASSWORD))\n",
    "\n",
    "import pandas as pd"
   ]
  },
  {
   "cell_type": "markdown",
   "metadata": {},
   "source": [
    "### Parsing"
   ]
  },
  {
   "cell_type": "code",
   "execution_count": null,
   "metadata": {},
   "outputs": [],
   "source": [
    "list_1 = list(el for el, _ in gen_lists())\n",
    "list_2 = list(el for _, el in gen_lists())\n",
    "list = [{'first': x, 'second': y} for x, y in zip(list_1, list_2)]"
   ]
  },
  {
   "cell_type": "markdown",
   "metadata": {},
   "source": [
    "### Ingestion"
   ]
  },
  {
   "cell_type": "code",
   "execution_count": null,
   "metadata": {},
   "outputs": [],
   "source": [
    "query_ingest = \"\"\"\n",
    "UNWIND $list AS row\n",
    "WITH row.first AS first, row.second AS second\n",
    "CREATE (:Location:List1 {loc: first}), (:Location:List2 {loc: second})\n",
    "\"\"\"\n",
    "\n",
    "gds.run_cypher(query_ingest, {\"list\":list})"
   ]
  },
  {
   "cell_type": "markdown",
   "metadata": {},
   "source": [
    "### Sorting"
   ]
  },
  {
   "cell_type": "code",
   "execution_count": null,
   "metadata": {},
   "outputs": [],
   "source": [
    "queries = [f\"\"\"\n",
    "MATCH (x:List{i})\n",
    "WITH x ORDER BY x.loc\n",
    "WITH collect(x) AS xs\n",
    "CALL apoc.nodes.link(xs, 'NEXT');\n",
    "\"\"\" for i in [1, 2]]\n",
    "\n",
    "for q in queries:\n",
    "    gds.run_cypher(q, {})"
   ]
  },
  {
   "cell_type": "markdown",
   "metadata": {},
   "source": [
    "### Iterative Matching"
   ]
  },
  {
   "cell_type": "code",
   "execution_count": null,
   "metadata": {},
   "outputs": [],
   "source": [
    "def infer (rules, params={}):\n",
    "    \"\"\"\n",
    "    This is a function you can use if you want to run a set of inference rules\n",
    "    until a convergence is reached. why not use it in a RDF-like reasoning context?\n",
    "    \"\"\"\n",
    "    counter = 0\n",
    "    while True:\n",
    "        counter += 1\n",
    "        any_update = False\n",
    "        for rule in rules:\n",
    "            with driver.session(database=\"neo4j\") as session:\n",
    "                result = session.run(rule, params)\n",
    "            any_update = any_update or result.consume().counters._contains_updates\n",
    "        if not any_update:\n",
    "            break"
   ]
  },
  {
   "cell_type": "code",
   "execution_count": null,
   "metadata": {},
   "outputs": [],
   "source": [
    "matching_query = \"\"\"\n",
    "MATCH (x:List1&!Processed\n",
    "WHERE NOT EXISTS {(:List1&!Processed)-[:NEXT]->(x)}),\n",
    "(y:List2&!Processed\n",
    "WHERE NOT EXISTS {(:List2&!Processed)-[:NEXT]->(y)})\n",
    "MERGE (x)-[:MATCH]->(y)\n",
    "SET x:Processed, y:Processed;\n",
    "\"\"\"\n",
    "\n",
    "rules =[matching_query]\n",
    "infer(rules)"
   ]
  },
  {
   "cell_type": "markdown",
   "metadata": {},
   "source": [
    "### The graph is built. Time for cypher queries."
   ]
  },
  {
   "cell_type": "code",
   "execution_count": null,
   "metadata": {},
   "outputs": [],
   "source": [
    "part1_query = \"\"\"\n",
    "MATCH (x)-[:MATCH]->(y)\n",
    "WITH abs (x.loc - y.loc) AS dist\n",
    "RETURN sum(dist) AS part1\n",
    "\"\"\"\n",
    "\n",
    "gds.run_cypher(part1_query, {})"
   ]
  },
  {
   "cell_type": "code",
   "execution_count": null,
   "metadata": {},
   "outputs": [],
   "source": [
    " # we'll need to MATCH list 2 elements on location value \n",
    "gds.run_cypher('CREATE INDEX list2_loc IF NOT EXISTS FOR (l:List2) ON (l.loc)')"
   ]
  },
  {
   "cell_type": "code",
   "execution_count": null,
   "metadata": {},
   "outputs": [],
   "source": [
    "part2_query = \"\"\"\n",
    "MATCH (el1:List1)\n",
    "WITH el1, count{\n",
    "  MATCH (el2:List2 {loc: el1.loc})\n",
    "  RETURN el2\n",
    "} * el1.loc AS dist\n",
    "RETURN sum (dist) AS part2\n",
    "\"\"\"\n",
    "\n",
    "gds.run_cypher(part2_query, {})"
   ]
  }
 ],
 "metadata": {
  "kernelspec": {
   "display_name": ".venv",
   "language": "python",
   "name": "python3"
  },
  "language_info": {
   "codemirror_mode": {
    "name": "ipython",
    "version": 3
   },
   "file_extension": ".py",
   "mimetype": "text/x-python",
   "name": "python",
   "nbconvert_exporter": "python",
   "pygments_lexer": "ipython3",
   "version": "3.9.6"
  }
 },
 "nbformat": 4,
 "nbformat_minor": 2
}
