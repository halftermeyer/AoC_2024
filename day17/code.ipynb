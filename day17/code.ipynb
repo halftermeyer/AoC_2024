{
 "cells": [
  {
   "cell_type": "markdown",
   "metadata": {},
   "source": [
    "# advent of code 2024 - [day 17](https://adventofcode.com/2024/day/17)"
   ]
  },
  {
   "cell_type": "markdown",
   "metadata": {},
   "source": [
    "### Parsing"
   ]
  },
  {
   "cell_type": "code",
   "execution_count": 15,
   "metadata": {},
   "outputs": [],
   "source": [
    "import re\n",
    "from collections import namedtuple\n",
    "from functools import cache\n",
    "\n",
    "Instance = namedtuple('Instance', ['halt','output','A', 'B', 'C', 'pointer', 'program'])"
   ]
  },
  {
   "cell_type": "code",
   "execution_count": 16,
   "metadata": {},
   "outputs": [],
   "source": [
    "def parse(file='input.txt'):\n",
    "    \"\"\"Generates tuples of integers\"\"\"\n",
    "    file = open(file, 'r')\n",
    "\n",
    "    dict_res = {'pointer':0}\n",
    "    for ix, line in enumerate(file):\n",
    "        if ix < 3:\n",
    "            # Parse registers\n",
    "            group =re.match(r'^Register ([A|B|C]): (\\d+)$', line)\n",
    "            dict_res[group[1]] = int(group[2])\n",
    "            continue\n",
    "\n",
    "        if ix == 3:\n",
    "            continue\n",
    "\n",
    "        if ix == 4:\n",
    "            # parse program\n",
    "            group =re.match(r'^Program: ([\\d|,]+)$', line)\n",
    "            dict_res['program'] = tuple(int(x) for x in group[1].strip().split(','))\n",
    "            continue\n",
    "                         \n",
    "    return Instance(False,tuple([]), dict_res['A'], dict_res['B'], dict_res['C'], dict_res['pointer'], dict_res['program'])"
   ]
  },
  {
   "cell_type": "markdown",
   "metadata": {},
   "source": [
    "### Compute"
   ]
  },
  {
   "cell_type": "code",
   "execution_count": 17,
   "metadata": {},
   "outputs": [
    {
     "name": "stdout",
     "output_type": "stream",
     "text": [
      "14\n"
     ]
    }
   ],
   "source": [
    "def bitwise_xor(a, b):\n",
    "    # Assume a and b are non-negative integers\n",
    "    if a < 0 or b < 0:\n",
    "        raise ValueError(\"Only non-negative integers are allowed.\")\n",
    "    \n",
    "    # Convert to binary (without '0b' prefix)\n",
    "    a_bin = bin(a)[2:]\n",
    "    b_bin = bin(b)[2:]\n",
    "    \n",
    "    # Pad the shorter binary string with zeros on the left\n",
    "    max_len = max(len(a_bin), len(b_bin))\n",
    "    a_bin = a_bin.zfill(max_len)\n",
    "    b_bin = b_bin.zfill(max_len)\n",
    "    \n",
    "    # Perform XOR bit by bit\n",
    "    result_bits = []\n",
    "    for bit_a, bit_b in zip(a_bin, b_bin):\n",
    "        xor_bit = str(int(bit_a) ^ int(bit_b))\n",
    "        result_bits.append(xor_bit)\n",
    "    \n",
    "    # Join the bits and convert back to integer\n",
    "    result = int(''.join(result_bits), 2)\n",
    "    return result\n",
    "\n",
    "# Example usage:\n",
    "# 10 (1010) XOR 4 (0100) = 14 (1110)\n",
    "print(bitwise_xor(10, 4))  # Should print 14"
   ]
  },
  {
   "cell_type": "code",
   "execution_count": 18,
   "metadata": {},
   "outputs": [],
   "source": [
    "def halt(state, verbose):\n",
    "    if verbose:\n",
    "        print(\"halt!\", state)\n",
    "    return Instance(True, state.output, state.A, state.B, state.C, state.pointer, state.program).output\n",
    "\n",
    "def adv (state, literal_operand, combo_operand, verbose):\n",
    "    if verbose:\n",
    "        print (\"adv\", \"state:\", state, \"operand:\", literal_operand, \"combo operand:\", combo_operand)\n",
    "    return run_program(Instance(state.halt, state.output, state.A//(2**combo_operand), state.B, state.C, state.pointer+2, state.program), verbose)\n",
    "\n",
    "def bxl (state, literal_operand, combo_operand, verbose):\n",
    "    if verbose:\n",
    "        print (\"bxl\", \"state:\", state, \"operand:\", literal_operand, \"combo operand:\", combo_operand)\n",
    "    return run_program(Instance(state.halt, state.output, state.A, bitwise_xor(state.B,literal_operand), state.C, state.pointer+2, state.program), verbose)\n",
    "\n",
    "def bst (state, literal_operand, combo_operand, verbose):\n",
    "    if verbose:\n",
    "        print (\"bst\", \"state:\", state, \"operand:\", literal_operand, \"combo operand:\", combo_operand)\n",
    "    return run_program(Instance(state.halt, state.output, state.A, combo_operand%8, state.C, state.pointer+2, state.program), verbose)\n",
    "\n",
    "def jnz (state, literal_operand, combo_operand, verbose):\n",
    "    if verbose:\n",
    "        print (\"jnz\", \"state:\", state, \"operand:\", literal_operand, \"combo operand:\", combo_operand)\n",
    "    if state.A == 0:\n",
    "        return run_program(Instance(state.halt, state.output, state.A, state.B, state.C, state.pointer+2, state.program), verbose)\n",
    "    return run_program(Instance(state.halt, state.output, state.A, state.B, state.C, literal_operand, state.program), verbose)\n",
    "\n",
    "def bxc (state, literal_operand, combo_operand, verbose):\n",
    "    if verbose:\n",
    "        print (\"bxc\", \"state:\", state, \"operand:\", literal_operand, \"combo operand:\", combo_operand)\n",
    "    return run_program(Instance(state.halt, state.output, state.A, bitwise_xor(state.B,state.C), state.C, state.pointer+2, state.program), verbose)\n",
    "\n",
    "def out (state, literal_operand, combo_operand, verbose):\n",
    "    if verbose:\n",
    "        print (\"out\", \"state:\", state, \"operand:\", literal_operand, \"combo operand:\", combo_operand)\n",
    "    return run_program(Instance(state.halt, state.output + (combo_operand%8,), state.A, state.B, state.C, state.pointer+2, state.program), verbose)\n",
    "\n",
    "def bdv (state, literal_operand, combo_operand, verbose):\n",
    "    if verbose:\n",
    "        print (\"adv\", \"state:\", state, \"operand:\", literal_operand, \"combo operand:\", combo_operand)\n",
    "    return run_program(Instance(state.halt, state.output, state.A, state.A//(2**combo_operand), state.C, state.pointer+2, state.program), verbose)\n",
    "\n",
    "def cdv (state, literal_operand, combo_operand, verbose):\n",
    "    if verbose:\n",
    "        print (\"adv\", \"state:\", state, \"operand:\", literal_operand, \"combo operand:\", combo_operand)\n",
    "    return run_program(Instance(state.halt, state.output, state.A, state.B, state.A//(2**combo_operand), state.pointer+2, state.program), verbose)\n",
    "\n",
    "def run_program(state, verbose=False):    \n",
    "    if verbose:\n",
    "        print(\"run_program:\", state)\n",
    "\n",
    "    if state.pointer >= len(state.program) - 1:\n",
    "        return halt(state, verbose)\n",
    "    \n",
    "    else:\n",
    "        opcode = state.program[state.pointer]\n",
    "        literal_operand = state.program[state.pointer+1]\n",
    "        if literal_operand in [0, 1, 2, 3]:\n",
    "            combo_operand = literal_operand\n",
    "        elif literal_operand == 4:\n",
    "            combo_operand = state.A\n",
    "        elif literal_operand == 5:\n",
    "            combo_operand = state.B\n",
    "        elif literal_operand == 6:\n",
    "            combo_operand = state.C\n",
    "        else:\n",
    "            combo_operand = -1\n",
    "\n",
    "        return [adv, bxl, bst, jnz, bxc, out, bdv, cdv][opcode](state, literal_operand, combo_operand, verbose)"
   ]
  },
  {
   "cell_type": "code",
   "execution_count": 28,
   "metadata": {},
   "outputs": [
    {
     "name": "stdout",
     "output_type": "stream",
     "text": [
      "part 1:  4,1,5,3,1,5,3,5,7\n"
     ]
    }
   ],
   "source": [
    "filename = \"input.txt\"\n",
    "#filename = \"test.txt\"\n",
    "init = parse(filename)\n",
    "\n",
    "print(\"part 1: \", ','.join([str(output_element) for output_element in run_program(init, False)]))\n"
   ]
  },
  {
   "cell_type": "code",
   "execution_count": null,
   "metadata": {},
   "outputs": [
    {
     "name": "stdout",
     "output_type": "stream",
     "text": [
      "part 2: 164542125272765\n"
     ]
    }
   ],
   "source": [
    "a = 8 ** 15\n",
    "power = 14\n",
    "init = parse(filename)\n",
    "matched = init.program[-1:]\n",
    "\n",
    "while (True):\n",
    "    state = Instance(init.halt, init.output, a, init.B, init.C, init.pointer, init.program)\n",
    "\n",
    "    output = run_program(state, False) \n",
    "    if output == state.program:\n",
    "        break\n",
    "    \n",
    "    if output[-len(matched):] == matched:\n",
    "      power = max(power - 1, 0)\n",
    "      matched = init.program[-(len(matched)+1):]\n",
    "\n",
    "    a += 8**power\n",
    " \n",
    "print(\"part 2:\", a)"
   ]
  }
 ],
 "metadata": {
  "kernelspec": {
   "display_name": ".venv",
   "language": "python",
   "name": "python3"
  },
  "language_info": {
   "codemirror_mode": {
    "name": "ipython",
    "version": 3
   },
   "file_extension": ".py",
   "mimetype": "text/x-python",
   "name": "python",
   "nbconvert_exporter": "python",
   "pygments_lexer": "ipython3",
   "version": "3.9.6"
  }
 },
 "nbformat": 4,
 "nbformat_minor": 2
}
