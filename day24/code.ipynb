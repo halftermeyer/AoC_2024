{
 "cells": [
  {
   "cell_type": "markdown",
   "metadata": {},
   "source": [
    "# advent of code 2024 - [day 24](https://adventofcode.com/2024/day/24)\n"
   ]
  },
  {
   "cell_type": "code",
   "execution_count": 29,
   "metadata": {},
   "outputs": [],
   "source": [
    "filename = 'input.txt'\n",
    "#filename = 'test.txt'"
   ]
  },
  {
   "cell_type": "code",
   "execution_count": 30,
   "metadata": {},
   "outputs": [],
   "source": [
    "def gen_init(file='input.txt'):\n",
    "    file = open(file, 'r')\n",
    "    for ix, line in enumerate(file):\n",
    "        if line.strip() == '':\n",
    "            break\n",
    "        wire, input = line.strip().split(': ')\n",
    "        yield {'wire': wire, 'input': int(input)}\n",
    "    \n",
    "def gen_connections(file='input.txt'):\n",
    "    file = open(file, 'r')\n",
    "    for ix, line in enumerate(file):\n",
    "        if ':' in line or line.strip() == '':\n",
    "            continue\n",
    "        connection, output_wire = line.strip().split(' -> ')\n",
    "        wire1, gate, wire2 = connection.strip().split(' ')\n",
    "        yield {'wire1': wire1, 'wire2': wire2, 'gate': gate, 'output_wire': output_wire}"
   ]
  },
  {
   "cell_type": "code",
   "execution_count": 32,
   "metadata": {},
   "outputs": [
    {
     "name": "stdout",
     "output_type": "stream",
     "text": [
      "2.13.0\n"
     ]
    }
   ],
   "source": [
    "import os\n",
    "\n",
    "NEO4J_URI = os.environ['NEO4J_URI']\n",
    "NEO4J_USERNAME = os.environ['NEO4J_USERNAME']\n",
    "NEO4J_PASSWORD = os.environ['NEO4J_PASSWORD']\n",
    "\n",
    "from graphdatascience import GraphDataScience\n",
    "gds = GraphDataScience(NEO4J_URI, auth=(NEO4J_USERNAME, NEO4J_PASSWORD))\n",
    "\n",
    "# Check the installed GDS version on the server\n",
    "print(gds.version())\n",
    "assert gds.version()\n",
    "\n",
    "from neo4j import GraphDatabase\n",
    "driver = GraphDatabase.driver(NEO4J_URI, auth=(NEO4J_USERNAME, NEO4J_PASSWORD))"
   ]
  },
  {
   "cell_type": "code",
   "execution_count": 33,
   "metadata": {},
   "outputs": [],
   "source": [
    "# cleaning\n",
    "def clean():\n",
    "    queries = [\n",
    "    \"CALL apoc.schema.assert({},{});\",\n",
    "    \"\"\"MATCH (n)\n",
    "    CALL {WITH n DETACH DELETE n}\n",
    "    IN TRANSACTIONS OF 1000 ROWS;\"\"\",\n",
    "    \"\"\"CALL gds.graph.list()\n",
    "    YIELD graphName\n",
    "    WITH graphName AS g\n",
    "    CALL (g) {CALL gds.graph.drop(g) YIELD graphName RETURN graphName}\n",
    "    WITH graphName RETURN graphName;\"\"\"]\n",
    "\n",
    "    for q in queries:\n",
    "        gds.run_cypher(q, {})"
   ]
  },
  {
   "cell_type": "code",
   "execution_count": 34,
   "metadata": {},
   "outputs": [],
   "source": [
    "def ingest(filename):\n",
    "\n",
    "    initial_values = list(gen_init(filename))\n",
    "    connections = list(gen_connections(filename))\n",
    "\n",
    "    \n",
    "    clean()\n",
    "\n",
    "    gds.run_cypher('CREATE INDEX wire_id IF NOT EXISTS FOR (w:Wire) ON (w.id)')\n",
    "    \n",
    "    ingest_qs = [\"\"\"\n",
    "    UNWIND $connections AS c\n",
    "    MERGE (w1:Wire {id:c.wire1})\n",
    "    MERGE (w2:Wire {id:c.wire2})\n",
    "    MERGE (out_w:Wire {id:c.output_wire})\n",
    "    CREATE (g:Gate)\n",
    "    SET g:$(c.gate)\n",
    "    CREATE (w1)-[:IN]->(g), (w2)-[:IN]->(g), (g)-[:OUT]->(out_w)\n",
    "    \"\"\",\n",
    "    \"\"\"\n",
    "    UNWIND $initial_values AS val\n",
    "    MERGE (w:Wire {id:val.wire})\n",
    "    SET w:Processed, w.bit = val.input\n",
    "    \"\"\"]\n",
    "\n",
    "    for q in ingest_qs:\n",
    "        gds.run_cypher(q, {\"connections\":connections, \"initial_values\": initial_values})"
   ]
  },
  {
   "cell_type": "code",
   "execution_count": 35,
   "metadata": {},
   "outputs": [],
   "source": [
    "ingest(filename)"
   ]
  },
  {
   "cell_type": "code",
   "execution_count": 36,
   "metadata": {},
   "outputs": [],
   "source": [
    "def infer (rules, params={}):\n",
    "    \"\"\"\n",
    "    This is a function you can use if you want to run a set of inference rules\n",
    "    until a convergence is reached. why not use it in a RDF-like reasoning context?\n",
    "    \"\"\"\n",
    "    counter = 0\n",
    "    while True:\n",
    "        counter += 1\n",
    "        any_update = False\n",
    "        for rule in rules:\n",
    "            with driver.session(database=\"neo4j\") as session:\n",
    "                result = session.run(rule, params)\n",
    "            any_update = any_update or result.consume().counters._contains_updates\n",
    "        if not any_update:\n",
    "            break"
   ]
  },
  {
   "cell_type": "code",
   "execution_count": 37,
   "metadata": {},
   "outputs": [],
   "source": [
    "rules = [\"\"\"MATCH (in1:Wire&Processed {bit:1})-[:IN]->(g:Gate&OR)-[:OUT]->(out:Wire&!Processed)\n",
    "SET out:Processed, out.bit = 1\"\"\",\n",
    "\"\"\"MATCH (in1:Wire&Processed {bit:0})-[:IN]->(g:Gate&OR)-[:OUT]->(out:Wire&!Processed), (in2:Wire&Processed {bit:0})-[:IN]->(g)\n",
    "SET out:Processed, out.bit = 0\"\"\",\n",
    "\"\"\"MATCH (in1:Wire&Processed {bit:0})-[:IN]->(g:Gate&AND)-[:OUT]->(out:Wire&!Processed)\n",
    "SET out:Processed, out.bit = 0\"\"\",\n",
    "\"\"\"MATCH (in1:Wire&Processed {bit:1})-[:IN]->(g:Gate&AND)-[:OUT]->(out:Wire&!Processed), (in2:Wire&Processed {bit:1})-[:IN]->(g)\n",
    "SET out:Processed, out.bit = 1\"\"\",\n",
    "\"\"\"MATCH (in1:Wire&Processed)-[:IN]->(g:Gate&XOR)-[:OUT]->(out:Wire&!Processed), (in2:Wire&Processed)-[:IN]->(g)\n",
    "SET out:Processed, out.bit = (CASE in1.bit <> in2.bit WHEN TRUE THEN 1 ELSE 0 END)\"\"\"]\n",
    "\n",
    "infer(rules)"
   ]
  },
  {
   "cell_type": "code",
   "execution_count": 38,
   "metadata": {},
   "outputs": [
    {
     "data": {
      "text/html": [
       "<div>\n",
       "<style scoped>\n",
       "    .dataframe tbody tr th:only-of-type {\n",
       "        vertical-align: middle;\n",
       "    }\n",
       "\n",
       "    .dataframe tbody tr th {\n",
       "        vertical-align: top;\n",
       "    }\n",
       "\n",
       "    .dataframe thead th {\n",
       "        text-align: right;\n",
       "    }\n",
       "</style>\n",
       "<table border=\"1\" class=\"dataframe\">\n",
       "  <thead>\n",
       "    <tr style=\"text-align: right;\">\n",
       "      <th></th>\n",
       "      <th>part1</th>\n",
       "    </tr>\n",
       "  </thead>\n",
       "  <tbody>\n",
       "    <tr>\n",
       "      <th>0</th>\n",
       "      <td>51745744348272</td>\n",
       "    </tr>\n",
       "  </tbody>\n",
       "</table>\n",
       "</div>"
      ],
      "text/plain": [
       "            part1\n",
       "0  51745744348272"
      ]
     },
     "execution_count": 38,
     "metadata": {},
     "output_type": "execute_result"
    }
   ],
   "source": [
    "gds.run_cypher(\"\"\"MATCH (w:Wire) WHERE w.id STARTS WITH 'z'\n",
    "WITH w ORDER BY w.id DESC\n",
    "WITH collect(w.bit) AS bits\n",
    "RETURN reduce(val = 0, b IN bits | val * 2 + b) AS part1\"\"\")"
   ]
  },
  {
   "cell_type": "markdown",
   "metadata": {},
   "source": [
    "### Part 2\n",
    "by hand"
   ]
  }
 ],
 "metadata": {
  "kernelspec": {
   "display_name": ".venv",
   "language": "python",
   "name": "python3"
  },
  "language_info": {
   "codemirror_mode": {
    "name": "ipython",
    "version": 3
   },
   "file_extension": ".py",
   "mimetype": "text/x-python",
   "name": "python",
   "nbconvert_exporter": "python",
   "pygments_lexer": "ipython3",
   "version": "3.9.6"
  }
 },
 "nbformat": 4,
 "nbformat_minor": 2
}
