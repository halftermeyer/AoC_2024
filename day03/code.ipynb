{
 "cells": [
  {
   "cell_type": "markdown",
   "metadata": {},
   "source": [
    "# advent of code 2024 - [day 3](https://adventofcode.com/2024/day/3)"
   ]
  },
  {
   "cell_type": "code",
   "execution_count": null,
   "metadata": {},
   "outputs": [],
   "source": [
    "def gen_lines(file='input.txt'):\n",
    "    file = open(file, 'r')\n",
    "    for _, line in enumerate(file):\n",
    "        yield line"
   ]
  },
  {
   "cell_type": "code",
   "execution_count": null,
   "metadata": {},
   "outputs": [],
   "source": [
    "import re\n",
    "matches = []\n",
    "for l in gen_lines():\n",
    "    matches_line = re.findall(r'mul\\((\\d+),(\\d+)\\)', l)\n",
    "    matches = matches + matches_line\n",
    "\n",
    "part1 = sum(int(m[0])*int(m[1]) for m in matches)\n",
    "part1"
   ]
  },
  {
   "cell_type": "code",
   "execution_count": null,
   "metadata": {},
   "outputs": [],
   "source": [
    "from functools import reduce\n",
    "import doctest\n",
    "doctest.testmod()\n",
    "\n",
    "def iterate_prog(instr1, instr2):\n",
    "    \"\"\"\n",
    "    iteration step called in the next reduce function.\n",
    "\n",
    "    >>> iterate_prog((8, 1, 'do()'), (3, 4, ''))\n",
    "    (20, 1, 'do()')\n",
    "    >>> iterate_prog((8, 1, 'do()'), (0, 0, \"don't()\"))\n",
    "    (8, 1, \"don't()\")\n",
    "    >>> iterate_prog((8, 1, \"don't()\"), (3, 4, ''))\n",
    "    (8, 1, \"don't()\")\n",
    "    >>> iterate_prog((8, 1, \"don't()\"), (0, 0, 'do()'))\n",
    "    (8, 1, 'do()')\n",
    "    \"\"\"\n",
    "    curr_prod = instr1[0] * instr1[1]\n",
    "    curr_state = instr2[2] if instr2[2] in ['do()', \"don't()\"] else instr1[2]\n",
    "    curr_prod = curr_prod if curr_state == \"don't()\" else curr_prod + instr2[0] * instr2[1]\n",
    "    res = (curr_prod, 1, curr_state)\n",
    "    return res"
   ]
  },
  {
   "cell_type": "code",
   "execution_count": null,
   "metadata": {},
   "outputs": [],
   "source": [
    "matches = [(0,0,'do()')]\n",
    "for l in gen_lines():\n",
    "    matches_line = re.findall(r'mul\\((\\d+),(\\d+)\\)|(do\\(\\)|don\\'t\\(\\))', l)\n",
    "    matches =  matches + [(int(m[0] if m[0] != '' else 0), int(m[1] if m[1] != '' else 0), m[2]) for m in matches_line] \n",
    "\n",
    "part2 = reduce(iterate_prog, matches)[0]\n",
    "part2"
   ]
  }
 ],
 "metadata": {
  "kernelspec": {
   "display_name": ".venv",
   "language": "python",
   "name": "python3"
  },
  "language_info": {
   "codemirror_mode": {
    "name": "ipython",
    "version": 3
   },
   "file_extension": ".py",
   "mimetype": "text/x-python",
   "name": "python",
   "nbconvert_exporter": "python",
   "pygments_lexer": "ipython3",
   "version": "3.9.6"
  }
 },
 "nbformat": 4,
 "nbformat_minor": 2
}
