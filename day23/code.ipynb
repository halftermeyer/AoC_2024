{
 "cells": [
  {
   "cell_type": "markdown",
   "metadata": {},
   "source": [
    "# advent of code 2024 - [day 23](https://adventofcode.com/2024/day/23)\n"
   ]
  },
  {
   "cell_type": "code",
   "execution_count": 1,
   "metadata": {},
   "outputs": [],
   "source": [
    "def gen_edges(file='input.txt'):\n",
    "    file = open(file, 'r')\n",
    "    for ix, line in enumerate(file):\n",
    "        yield line.strip().split('-')"
   ]
  },
  {
   "cell_type": "code",
   "execution_count": 2,
   "metadata": {},
   "outputs": [],
   "source": [
    "filename = 'input.txt'\n",
    "#filename = 'test.txt'"
   ]
  },
  {
   "cell_type": "code",
   "execution_count": null,
   "metadata": {},
   "outputs": [],
   "source": [
    "import os\n",
    "\n",
    "NEO4J_URI = os.environ['NEO4J_URI']\n",
    "NEO4J_USERNAME = os.environ['NEO4J_USERNAME']\n",
    "NEO4J_PASSWORD = os.environ['NEO4J_PASSWORD']\n",
    "\n",
    "from graphdatascience import GraphDataScience\n",
    "gds = GraphDataScience(NEO4J_URI, auth=(NEO4J_USERNAME, NEO4J_PASSWORD))\n",
    "\n",
    "# Check the installed GDS version on the server\n",
    "print(gds.version())\n",
    "assert gds.version()\n",
    "\n",
    "from neo4j import GraphDatabase\n",
    "driver = GraphDatabase.driver(NEO4J_URI, auth=(NEO4J_USERNAME, NEO4J_PASSWORD))"
   ]
  },
  {
   "cell_type": "code",
   "execution_count": 4,
   "metadata": {},
   "outputs": [],
   "source": [
    "# cleaning\n",
    "def clean():\n",
    "    queries = [\n",
    "    \"CALL apoc.schema.assert({},{});\",\n",
    "    \"\"\"MATCH (n)\n",
    "    CALL {WITH n DETACH DELETE n}\n",
    "    IN TRANSACTIONS OF 1000 ROWS;\"\"\",\n",
    "    \"\"\"CALL gds.graph.list()\n",
    "    YIELD graphName\n",
    "    WITH graphName AS g\n",
    "    CALL (g) {CALL gds.graph.drop(g) YIELD graphName RETURN graphName}\n",
    "    WITH graphName RETURN graphName;\"\"\"]\n",
    "\n",
    "    for q in queries:\n",
    "        gds.run_cypher(q, {})"
   ]
  },
  {
   "cell_type": "code",
   "execution_count": 5,
   "metadata": {},
   "outputs": [],
   "source": [
    "def ingest(filename):\n",
    "\n",
    "    links = [{'computer0': x[0], 'computer1': x[1]} for x in gen_edges(filename)]\n",
    "    \n",
    "    clean()\n",
    "\n",
    "    gds.run_cypher('CREATE INDEX computer_id IF NOT EXISTS FOR (c:Computer) ON (c.id)')\n",
    "    \n",
    "    query_ingest = \"\"\"\n",
    "    UNWIND $links AS link\n",
    "    MERGE (c0:Computer {id:link.computer0})\n",
    "    MERGE (c1:Computer {id:link.computer1})\n",
    "    MERGE (c0)-[:LINK]->(c1)\n",
    "    \"\"\"\n",
    "\n",
    "    gds.run_cypher(query_ingest, {\"links\":links})"
   ]
  },
  {
   "cell_type": "code",
   "execution_count": null,
   "metadata": {},
   "outputs": [],
   "source": [
    "ingest(filename)"
   ]
  },
  {
   "cell_type": "code",
   "execution_count": null,
   "metadata": {},
   "outputs": [],
   "source": [
    "gds.run_cypher(\"\"\"MATCH (c:Computer WHERE c.id STARTS WITH 't')\n",
    "MATCH path = (c)-[:LINK]-(b)-[:LINK]-(a)-[:LINK]-(c)\n",
    "WITH apoc.coll.toSet(apoc.coll.sort([x IN nodes(path) | x.id])) AS ids\n",
    "RETURN count(DISTINCT ids) AS part1\"\"\")"
   ]
  },
  {
   "cell_type": "code",
   "execution_count": null,
   "metadata": {},
   "outputs": [],
   "source": [
    "gds.run_cypher(\"\"\"MATCH (source:Computer)\n",
    "OPTIONAL MATCH (source)-[r:LINK]->(target:Computer)\n",
    "RETURN gds.graph.project(\n",
    "  'LAN',\n",
    "  source,\n",
    "  target,\n",
    "  {\n",
    "  },\n",
    "  { undirectedRelationshipTypes: ['*'] }\n",
    ")\n",
    "\"\"\")\n",
    "\n",
    "gds.run_cypher(\"\"\"CALL gds.louvain.write('LAN', { writeProperty: 'community' })\n",
    "YIELD communityCount, modularity, modularities\"\"\")"
   ]
  },
  {
   "cell_type": "code",
   "execution_count": null,
   "metadata": {},
   "outputs": [],
   "source": [
    "gds.run_cypher(\"\"\"MATCH (c:Computer)\n",
    "WITH c, c.community AS community\n",
    "WITH community, collect(c) AS cs\n",
    "WITH community, cs, size(cs) AS sz ORDER BY sz DESC\n",
    "MATCH edge = (a WHERE a IN cs)-[:LINK]->(b WHERE b IN cs)\n",
    "WITH community, cs, count(edge) AS edges ORDER BY edges DESC\n",
    "WHERE edges = (size(cs)-1) * (size(cs) -1 + 1) / 2 // check it's a clique\n",
    "LIMIT 1\n",
    "RETURN apoc.text.join(apoc.coll.toSet(apoc.coll.sort([x IN cs | x.id])),',') AS password\"\"\")"
   ]
  }
 ],
 "metadata": {
  "kernelspec": {
   "display_name": ".venv",
   "language": "python",
   "name": "python3"
  },
  "language_info": {
   "codemirror_mode": {
    "name": "ipython",
    "version": 3
   },
   "file_extension": ".py",
   "mimetype": "text/x-python",
   "name": "python",
   "nbconvert_exporter": "python",
   "pygments_lexer": "ipython3",
   "version": "3.9.6"
  }
 },
 "nbformat": 4,
 "nbformat_minor": 2
}
