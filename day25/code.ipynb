{
 "cells": [
  {
   "cell_type": "markdown",
   "metadata": {},
   "source": [
    "# advent of code 2024 - [day 25](https://adventofcode.com/2024/day/25)\n"
   ]
  },
  {
   "cell_type": "code",
   "execution_count": 27,
   "metadata": {},
   "outputs": [],
   "source": [
    "filename = 'input.txt'\n",
    "#filename = 'test.txt'"
   ]
  },
  {
   "cell_type": "code",
   "execution_count": 28,
   "metadata": {},
   "outputs": [],
   "source": [
    "def gen_objects(file='input.txt'):\n",
    "    file = open(file, 'r')\n",
    "    pins = (-1,-1,-1,-1,-1)\n",
    "    for ix, line in enumerate(file):\n",
    "        if line.strip() == '#####':\n",
    "            key_or_lock = 'key'\n",
    "        if line.strip() == '.....':\n",
    "            key_or_lock = 'lock'\n",
    "        if line.strip() == '':\n",
    "            yield {'key_or_lock': key_or_lock, 'pins':pins}\n",
    "            pins = (-1,-1,-1,-1,-1)\n",
    "        else:\n",
    "            pins = tuple(pins[ix] + (1 if c == '#' else 0) for ix, c in enumerate(line.strip()))\n",
    "    yield {'key_or_lock': key_or_lock, 'pins':pins}"
   ]
  },
  {
   "cell_type": "code",
   "execution_count": 29,
   "metadata": {},
   "outputs": [],
   "source": [
    "locks, keys = [], []\n",
    "for x in gen_objects(filename):\n",
    "    if x['key_or_lock'] == 'lock':\n",
    "        locks += [x['pins']]\n",
    "    if x['key_or_lock'] == 'key':\n",
    "        keys += [x['pins']]"
   ]
  },
  {
   "cell_type": "code",
   "execution_count": 31,
   "metadata": {},
   "outputs": [
    {
     "name": "stdout",
     "output_type": "stream",
     "text": [
      "part 1: 3021\n"
     ]
    }
   ],
   "source": [
    "fitting = 0\n",
    "for lock in locks:\n",
    "    for key in keys:\n",
    "        if all(x[0] + x[1] <6 for x in zip(lock,key)):\n",
    "            fitting += 1\n",
    "print('part 1:', fitting)"
   ]
  }
 ],
 "metadata": {
  "kernelspec": {
   "display_name": ".venv",
   "language": "python",
   "name": "python3"
  },
  "language_info": {
   "codemirror_mode": {
    "name": "ipython",
    "version": 3
   },
   "file_extension": ".py",
   "mimetype": "text/x-python",
   "name": "python",
   "nbconvert_exporter": "python",
   "pygments_lexer": "ipython3",
   "version": "3.9.6"
  }
 },
 "nbformat": 4,
 "nbformat_minor": 2
}
