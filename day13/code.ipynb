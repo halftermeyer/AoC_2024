{
 "cells": [
  {
   "cell_type": "markdown",
   "metadata": {},
   "source": [
    "# advent of code 2024 - [day 13](https://adventofcode.com/2024/day/13)"
   ]
  },
  {
   "cell_type": "markdown",
   "metadata": {},
   "source": [
    "### Parsing"
   ]
  },
  {
   "cell_type": "code",
   "execution_count": 84,
   "metadata": {},
   "outputs": [],
   "source": [
    "import re"
   ]
  },
  {
   "cell_type": "code",
   "execution_count": 243,
   "metadata": {},
   "outputs": [],
   "source": [
    "\n",
    "def gen_stones(file='input.txt', part=1):\n",
    "    \"\"\"Generates tuples of integers\"\"\"\n",
    "    file = open(file, 'r')\n",
    "\n",
    "    for ix, line in enumerate(file):\n",
    "        if ix%4 in [0]:\n",
    "            res = {}\n",
    "        if ix%4 in [0,1]:\n",
    "            group =re.match(r'^Button ([AB]): X\\+(\\d+), Y\\+(\\d+)$', line)\n",
    "            res[group[1]]= (int(group[2]), int(group[3]), 3 if group[1] == 'A' else 1 )\n",
    "        if ix%4 == 2:\n",
    "            group =re.match(r'^Prize: X=(\\d+), Y=(\\d+)$', line)\n",
    "            if part != 2:\n",
    "                res['prize']= (int(group[1]), int(group[2]))\n",
    "            else:\n",
    "                res['prize']= (int(group[1])+10000000000000, int(group[2])+10000000000000)\n",
    "        if ix%4 == 2:\n",
    "            yield (res['A'], res['B'], res['prize'])"
   ]
  },
  {
   "cell_type": "code",
   "execution_count": null,
   "metadata": {},
   "outputs": [],
   "source": [
    "filename = \"input.txt\"\n",
    "#filename = \"test.txt\""
   ]
  },
  {
   "cell_type": "code",
   "execution_count": null,
   "metadata": {},
   "outputs": [],
   "source": [
    "def solve(filename, part):\n",
    "    res = 0\n",
    "    for x in gen_stones(filename, part):\n",
    "        delta = x[1][1] * x[0][0] - x[1][0] * x[0][1]\n",
    "        assert (delta != 0)\n",
    "\n",
    "        n_delta = x[2][0] * x[1][1] - x[2][1] * x[1][0]\n",
    "        m_delta = x[2][1] * x[0][0] - x[2][0] * x[0][1]\n",
    "        \n",
    "        # kramer formula\n",
    "        if n_delta%delta == 0 and m_delta%delta == 0:\n",
    "            n = n_delta/delta\n",
    "            m = m_delta/delta\n",
    "            assert(n * x[0][0] + m * x[1][0] == x[2][0])\n",
    "            assert(n * x[0][1] + m * x[1][1] == x[2][1])\n",
    "            res+=int(3*n+m)\n",
    "    return res"
   ]
  },
  {
   "cell_type": "code",
   "execution_count": 260,
   "metadata": {},
   "outputs": [
    {
     "data": {
      "text/plain": [
       "27105"
      ]
     },
     "execution_count": 260,
     "metadata": {},
     "output_type": "execute_result"
    }
   ],
   "source": [
    "part1 = solve(filename, 1)\n",
    "part1"
   ]
  },
  {
   "cell_type": "code",
   "execution_count": 261,
   "metadata": {},
   "outputs": [
    {
     "data": {
      "text/plain": [
       "101726882250942"
      ]
     },
     "execution_count": 261,
     "metadata": {},
     "output_type": "execute_result"
    }
   ],
   "source": [
    "part2 = solve(filename, 2)\n",
    "part2"
   ]
  },
  {
   "cell_type": "markdown",
   "metadata": {},
   "source": [
    "## DP Python Solution (not scaling for part 2)"
   ]
  },
  {
   "cell_type": "code",
   "execution_count": 222,
   "metadata": {},
   "outputs": [],
   "source": [
    "from functools import cache\n",
    "import doctest\n",
    "doctest.testmod()\n",
    "\n",
    "@cache\n",
    "def min_cost(A, B, prize, max_depths):\n",
    "    if max_depths [0] > 100 or max_depths [1] > 100 or prize[0] < 0 or prize[1]<0:\n",
    "        return None\n",
    "    if prize == (0,0):\n",
    "        return 0\n",
    "    \n",
    "    cost_A = min_cost(A, B, (prize[0]-A[0], prize[1]-A[1]) , (max_depths[0]+1, max_depths[1]))\n",
    "    cost_B = min_cost(A, B, (prize[0]-B[0], prize[1]-B[1]) , (max_depths[0], max_depths[1]+1))\n",
    "\n",
    "    if cost_A == None and cost_B == None:\n",
    "        return None\n",
    "    if cost_A == None:\n",
    "        return 1+cost_B\n",
    "    if cost_B == None:\n",
    "        return 3+cost_A\n",
    "    return min(3+cost_A, 1+cost_B)"
   ]
  },
  {
   "cell_type": "code",
   "execution_count": 206,
   "metadata": {},
   "outputs": [
    {
     "data": {
      "text/plain": [
       "27105"
      ]
     },
     "execution_count": 206,
     "metadata": {},
     "output_type": "execute_result"
    }
   ],
   "source": [
    "part1 = 0\n",
    "for test_claw_machine in gen_stones(filename):\n",
    "    cost = min_cost(*test_claw_machine, (0,0))\n",
    "    if cost != None:\n",
    "        part1 += cost\n",
    "part1"
   ]
  }
 ],
 "metadata": {
  "kernelspec": {
   "display_name": ".venv",
   "language": "python",
   "name": "python3"
  },
  "language_info": {
   "codemirror_mode": {
    "name": "ipython",
    "version": 3
   },
   "file_extension": ".py",
   "mimetype": "text/x-python",
   "name": "python",
   "nbconvert_exporter": "python",
   "pygments_lexer": "ipython3",
   "version": "3.9.6"
  }
 },
 "nbformat": 4,
 "nbformat_minor": 2
}
